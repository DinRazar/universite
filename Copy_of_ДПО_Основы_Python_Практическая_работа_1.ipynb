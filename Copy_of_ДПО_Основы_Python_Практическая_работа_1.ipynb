{
  "nbformat": 4,
  "nbformat_minor": 0,
  "metadata": {
    "colab": {
      "provenance": [],
      "include_colab_link": true
    },
    "kernelspec": {
      "name": "python3",
      "display_name": "Python 3"
    },
    "language_info": {
      "name": "python"
    }
  },
  "cells": [
    {
      "cell_type": "markdown",
      "metadata": {
        "id": "view-in-github",
        "colab_type": "text"
      },
      "source": [
        "<a href=\"https://colab.research.google.com/github/DinRazar/universite/blob/main/Copy_of_%D0%94%D0%9F%D0%9E_%D0%9E%D1%81%D0%BD%D0%BE%D0%B2%D1%8B_Python_%D0%9F%D1%80%D0%B0%D0%BA%D1%82%D0%B8%D1%87%D0%B5%D1%81%D0%BA%D0%B0%D1%8F_%D1%80%D0%B0%D0%B1%D0%BE%D1%82%D0%B0_1.ipynb\" target=\"_parent\"><img src=\"https://colab.research.google.com/assets/colab-badge.svg\" alt=\"Open In Colab\"/></a>"
      ]
    },
    {
      "cell_type": "markdown",
      "source": [
        "# **Практическая работа №1. Введение в Python. Функции ввода-вывода. Основные типы и структуры данных**\n",
        "\n",
        "---\n",
        "\n",
        "\n",
        "\n"
      ],
      "metadata": {
        "id": "wfO8faq6ZSPR"
      }
    },
    {
      "cell_type": "markdown",
      "source": [
        "**Обучающийся:** *Наумов Дмитрий Дмитриевич*  \n",
        "\n",
        "\n",
        "\n"
      ],
      "metadata": {
        "id": "s1lvsaUa1kGY"
      }
    },
    {
      "cell_type": "markdown",
      "source": [
        "---"
      ],
      "metadata": {
        "id": "Lmxdci5V1iUz"
      }
    },
    {
      "cell_type": "markdown",
      "source": [
        "## **Блок заданий №1. Функция `print`**\n",
        "\n",
        "\n"
      ],
      "metadata": {
        "id": "APa2xjpZcAkk"
      }
    },
    {
      "cell_type": "markdown",
      "source": [
        "#### 1. Выведите на экран фразу **\"Добро пожаловать в мир Python!\"** с помощью функции `print`.\n"
      ],
      "metadata": {
        "id": "omMWRtIod-k-"
      }
    },
    {
      "cell_type": "code",
      "source": [
        "print('Добро пожаловать в мир Python!')"
      ],
      "metadata": {
        "id": "0R5R1jSwd_FT",
        "colab": {
          "base_uri": "https://localhost:8080/"
        },
        "outputId": "3c3edbda-e759-485c-f37a-587d7eca17a1"
      },
      "execution_count": 1,
      "outputs": [
        {
          "output_type": "stream",
          "name": "stdout",
          "text": [
            "Добро пожаловать в мир Python!\n"
          ]
        }
      ]
    },
    {
      "cell_type": "markdown",
      "source": [
        "#### 2. Выведите на экран результат сложения чисел **15** и **27**.\n"
      ],
      "metadata": {
        "id": "A3ysPOjNd70e"
      }
    },
    {
      "cell_type": "code",
      "source": [
        "print(15 + 27)"
      ],
      "metadata": {
        "id": "5wnr_TY1eCmM",
        "colab": {
          "base_uri": "https://localhost:8080/"
        },
        "outputId": "f49baaf8-84e7-4d2e-f480-60cb0952de68"
      },
      "execution_count": 2,
      "outputs": [
        {
          "output_type": "stream",
          "name": "stdout",
          "text": [
            "42\n"
          ]
        }
      ]
    },
    {
      "cell_type": "markdown",
      "source": [
        "#### 3. Сохраните свое имя в переменную и выведите его на экран с помощью `print`."
      ],
      "metadata": {
        "id": "RBkgp7Bjd9VL"
      }
    },
    {
      "cell_type": "code",
      "source": [
        "nom = \"Дима\"\n",
        "print(nom)"
      ],
      "metadata": {
        "id": "R7V70qsCeCxl"
      },
      "execution_count": null,
      "outputs": []
    },
    {
      "cell_type": "markdown",
      "source": [
        "#### 4. Выведите на экран несколько строк текста, каждая из которых отображается с новой строки."
      ],
      "metadata": {
        "id": "8q_iVvGed6VD"
      }
    },
    {
      "cell_type": "code",
      "source": [
        "print(\"L'amour, c'est rien!\\nQuand c'est politiquement correct\\nOn s'aime bien\\nOn n' sait même pas quand on se blesse\")"
      ],
      "metadata": {
        "id": "5uFFGny2eC_7",
        "colab": {
          "base_uri": "https://localhost:8080/"
        },
        "outputId": "4ed03423-6c85-44f7-833f-c44872f83bb7"
      },
      "execution_count": 4,
      "outputs": [
        {
          "output_type": "stream",
          "name": "stdout",
          "text": [
            "L'amour, c'est rien!\n",
            "Quand c'est politiquement correct\n",
            "On s'aime bien\n",
            "On n' sait même pas quand on se blesse\n"
          ]
        }
      ]
    },
    {
      "cell_type": "markdown",
      "source": [
        "#### 5. Выведите результат математического выражения с использованием f-строк, например:\n",
        "\n",
        "   ```python\n",
        "   7 + 7 = 14\n",
        "   ```\n"
      ],
      "metadata": {
        "id": "ZwTwWIbpeO8B"
      }
    },
    {
      "cell_type": "code",
      "source": [
        "print(f\"7 + 7 = {7 + 7}\")"
      ],
      "metadata": {
        "id": "f7cGPh5reXb8",
        "colab": {
          "base_uri": "https://localhost:8080/"
        },
        "outputId": "58893b37-dc57-4d91-905d-a388e45bbcf6"
      },
      "execution_count": 5,
      "outputs": [
        {
          "output_type": "stream",
          "name": "stdout",
          "text": [
            "7 + 7 = 14\n"
          ]
        }
      ]
    },
    {
      "cell_type": "markdown",
      "source": [
        "## **Блок заданий №2. Функция `input`**\n",
        "\n"
      ],
      "metadata": {
        "id": "YBCWUDzEdQcl"
      }
    },
    {
      "cell_type": "markdown",
      "source": [
        "#### 1. Запросите у пользователя три разных числа и выведите их произведение.\n"
      ],
      "metadata": {
        "id": "1JG7ncRffYpN"
      }
    },
    {
      "cell_type": "code",
      "source": [
        "nombre1 = float(input(\"Введите первое число: \"))\n",
        "nombre2 = float(input(\"Введите второе число: \"))\n",
        "nombre3 = float(input(\"Введите третье число: \"))\n",
        "\n",
        "somme  = nombre1 * nombre2 * nombre3\n",
        "\n",
        "print(f\"Произведение чисел {nombre1}, {nombre2} и {nombre3} равно: {somme }\")"
      ],
      "metadata": {
        "id": "duI1IqytfZo3",
        "colab": {
          "base_uri": "https://localhost:8080/"
        },
        "outputId": "7f243542-a3cf-4099-f3ee-45a24e1decec"
      },
      "execution_count": 8,
      "outputs": [
        {
          "output_type": "stream",
          "name": "stdout",
          "text": [
            "Введите первое число: 1\n",
            "Введите второе число: 2\n",
            "Введите третье число: 3\n",
            "Произведение чисел 1.0, 2.0 и 3.0 равно: 6.0\n"
          ]
        }
      ]
    },
    {
      "cell_type": "markdown",
      "source": [
        "#### 2. Попросите пользователя ввести свое ФИО, а затем выведите фамилию и инициалы.\n"
      ],
      "metadata": {
        "id": "CGLKsG9yfXZf"
      }
    },
    {
      "cell_type": "code",
      "source": [
        "fio = input(\"Введите ваше ФИО (Фамилия Имя Отчество): \")\n",
        "\n",
        "name_parts = fio.split()\n",
        "\n",
        "\n",
        "surname = name_parts[0]\n",
        "\n",
        "first_initial = name_parts[1][0] if len(name_parts) > 1 else ''\n",
        "\n",
        "middle_initial = name_parts[2][0] if len(name_parts) > 2 else ''\n",
        "\n",
        "if first_initial and middle_initial:\n",
        "    initials = f\"{surname} {first_initial}.{middle_initial}.\"\n",
        "elif first_initial:\n",
        "    initials = f\"{surname} {first_initial}.\"\n",
        "else:\n",
        "    initials = surname\n",
        "\n",
        "print(f\"Фамилия и инициалы: {initials}\")"
      ],
      "metadata": {
        "id": "OhBXFkoffZ1l",
        "colab": {
          "base_uri": "https://localhost:8080/"
        },
        "outputId": "0de299c2-84d4-40bb-fc6f-541a6267961c"
      },
      "execution_count": 9,
      "outputs": [
        {
          "output_type": "stream",
          "name": "stdout",
          "text": [
            "Введите ваше ФИО (Фамилия Имя Отчество): Наумов Дмитрий Дмитриевич\n",
            "Фамилия и инициалы: Наумов Д.Д.\n"
          ]
        }
      ]
    },
    {
      "cell_type": "markdown",
      "source": [
        "#### 3. Получите от пользователя строку и символ, затем определите, сколько раз этот символ встречается в строке.\n"
      ],
      "metadata": {
        "id": "FJd73_DSfWgf"
      }
    },
    {
      "cell_type": "code",
      "source": [
        "text = input(\"Введите строку: \")\n",
        "\n",
        "char = input(\"Введите символ для поиска: \")\n",
        "\n",
        "count = text.count(char)\n",
        "\n",
        "print(f\"Символ '{char}' встречается в строке {count} раз(а)\")"
      ],
      "metadata": {
        "id": "VAzbeJANfaAP",
        "colab": {
          "base_uri": "https://localhost:8080/"
        },
        "outputId": "94af9cec-8278-4ba1-b02d-2b8f8c0562e1"
      },
      "execution_count": 10,
      "outputs": [
        {
          "output_type": "stream",
          "name": "stdout",
          "text": [
            "Введите строку: И смерти нет почетней той,  Что ты принять готов  За кости пращуров своих,  За храм своих богов.\n",
            "Введите символ для поиска: ч\n",
            "Символ 'ч' встречается в строке 1 раз(а)\n"
          ]
        }
      ]
    },
    {
      "cell_type": "markdown",
      "source": [
        "#### 4. Попросите пользователя ввести любимый цвет и выведите сообщение: **\"[Цвет] - красивый цвет!\"**.\n"
      ],
      "metadata": {
        "id": "ZY_cf1nbfVbo"
      }
    },
    {
      "cell_type": "code",
      "source": [
        "color = input(\"Введите ваш любимый цвет: \")\n",
        "\n",
        "print(f\"{color} - красивый цвет!\")"
      ],
      "metadata": {
        "id": "vVoFM74MfaMe",
        "colab": {
          "base_uri": "https://localhost:8080/"
        },
        "outputId": "36d3ad3b-1886-487b-9588-c458b66f15a3"
      },
      "execution_count": 11,
      "outputs": [
        {
          "output_type": "stream",
          "name": "stdout",
          "text": [
            "Введите ваш любимый цвет: охра\n",
            "охра - красивый цвет!\n"
          ]
        }
      ]
    },
    {
      "cell_type": "markdown",
      "source": [
        "#### 5. Получите от пользователя строку и выведите ее длину."
      ],
      "metadata": {
        "id": "a6ekPIcOfUFK"
      }
    },
    {
      "cell_type": "code",
      "source": [
        "text = input(\"Введите строку: \")\n",
        "\n",
        "len = len(text)\n",
        "\n",
        "print(f\"Длина строки: {len} символов\")"
      ],
      "metadata": {
        "id": "psRmx_htfas2",
        "colab": {
          "base_uri": "https://localhost:8080/"
        },
        "outputId": "f8378393-9392-4060-f86f-f884ff81d493"
      },
      "execution_count": 12,
      "outputs": [
        {
          "output_type": "stream",
          "name": "stdout",
          "text": [
            "Введите строку: Я уже говорил тебе, что такое безумие? А? Безумие — это точное повторение одного и того же действия, раз за разом, в надежде на изменение. Это и есть безумие\n",
            "Длина строки: 157 символов\n"
          ]
        }
      ]
    },
    {
      "cell_type": "markdown",
      "source": [
        "## **Блок заданий №3. Тип данных `int`**"
      ],
      "metadata": {
        "id": "gQ99P3lxgEvA"
      }
    },
    {
      "cell_type": "markdown",
      "source": [
        "#### Тип данных `int`\n",
        "\n",
        "\n",
        "\n",
        "\n",
        "\n"
      ],
      "metadata": {
        "id": "c-pHmy5NctvU"
      }
    },
    {
      "cell_type": "markdown",
      "source": [
        "1. Создайте переменную типа `int`, присвойте ей значение **42** и выведите на экран."
      ],
      "metadata": {
        "id": "1YAKZCMuglIZ"
      }
    },
    {
      "cell_type": "code",
      "source": [
        "nombre = 42\n",
        "\n",
        "print(nombre)"
      ],
      "metadata": {
        "id": "BpqJyc5GgmWz",
        "colab": {
          "base_uri": "https://localhost:8080/"
        },
        "outputId": "1f9eb54d-1d6f-4c7b-9561-52756f9ee7d7"
      },
      "execution_count": 13,
      "outputs": [
        {
          "output_type": "stream",
          "name": "stdout",
          "text": [
            "42\n"
          ]
        }
      ]
    },
    {
      "cell_type": "markdown",
      "source": [
        "2. Вычислите и выведите результат выражения **(17 * 3) + (10 / 2)** в виде целого числа."
      ],
      "metadata": {
        "id": "J3FS1RtDgkCO"
      }
    },
    {
      "cell_type": "code",
      "source": [
        "résultat = (17 * 3) + (10 / 2)\n",
        "\n",
        "print(int(résultat))"
      ],
      "metadata": {
        "id": "YLIx8CCrgmkU",
        "colab": {
          "base_uri": "https://localhost:8080/"
        },
        "outputId": "31f052c3-3d55-476f-c500-246114474f14"
      },
      "execution_count": 14,
      "outputs": [
        {
          "output_type": "stream",
          "name": "stdout",
          "text": [
            "56\n"
          ]
        }
      ]
    },
    {
      "cell_type": "markdown",
      "source": [
        "3. Преобразуйте строку **\"100\"** в целое число и добавьте к нему **25**."
      ],
      "metadata": {
        "id": "91x1Lb4tgier"
      }
    },
    {
      "cell_type": "code",
      "source": [
        "nombre = int(\"100\")\n",
        "\n",
        "résultat = nombre + 25\n",
        "\n",
        "print(résultat)"
      ],
      "metadata": {
        "id": "vmEIAy1CgmzH",
        "colab": {
          "base_uri": "https://localhost:8080/"
        },
        "outputId": "9b6fc868-2007-43b8-8f55-1824150e0f47"
      },
      "execution_count": 15,
      "outputs": [
        {
          "output_type": "stream",
          "name": "stdout",
          "text": [
            "125\n"
          ]
        }
      ]
    },
    {
      "cell_type": "markdown",
      "source": [
        "4. Проверьте тип переменной, которая хранит значение **7**, используя функцию `type()`."
      ],
      "metadata": {
        "id": "Ua_0A7teghG0"
      }
    },
    {
      "cell_type": "code",
      "source": [
        "variable = 7\n",
        "\n",
        "print(type(variable))"
      ],
      "metadata": {
        "id": "56_CnKgGgnFi",
        "colab": {
          "base_uri": "https://localhost:8080/"
        },
        "outputId": "9009d574-acbf-4f88-ad4f-47e4d0df8555"
      },
      "execution_count": 16,
      "outputs": [
        {
          "output_type": "stream",
          "name": "stdout",
          "text": [
            "<class 'int'>\n"
          ]
        }
      ]
    },
    {
      "cell_type": "markdown",
      "source": [
        "5. Создайте две переменные целого типа, присвойте им значения и выведите их разницу."
      ],
      "metadata": {
        "id": "JxK0fU_Wgf8J"
      }
    },
    {
      "cell_type": "code",
      "source": [
        "a = 15\n",
        "b = 8\n",
        "\n",
        "différence = a - b\n",
        "\n",
        "print(différence)"
      ],
      "metadata": {
        "id": "GFsY9xSkgnfv",
        "colab": {
          "base_uri": "https://localhost:8080/"
        },
        "outputId": "34f6a740-67de-43b6-eda4-8bae79e4ea31"
      },
      "execution_count": 17,
      "outputs": [
        {
          "output_type": "stream",
          "name": "stdout",
          "text": [
            "7\n"
          ]
        }
      ]
    },
    {
      "cell_type": "markdown",
      "source": [
        "## **Блок заданий №4. Тип данных `float`**"
      ],
      "metadata": {
        "id": "G-DskIxcg598"
      }
    },
    {
      "cell_type": "markdown",
      "source": [
        "#### 1. Запросите у пользователя вещественное число и выведите его квадрат.\n",
        "\n",
        "\n",
        "\n"
      ],
      "metadata": {
        "id": "W5liVT_kcwnQ"
      }
    },
    {
      "cell_type": "code",
      "source": [
        "nombre = float(input(\"Введите вещественное число: \"))\n",
        "\n",
        "carré = nombre ** 2\n",
        "\n",
        "print(f\"Квадрат числа {nombre} равен: {carré}\")"
      ],
      "metadata": {
        "id": "S_i6OLwShHaH",
        "colab": {
          "base_uri": "https://localhost:8080/"
        },
        "outputId": "601bcd8a-82a7-4c58-e6bf-59df633dfbbc"
      },
      "execution_count": 18,
      "outputs": [
        {
          "output_type": "stream",
          "name": "stdout",
          "text": [
            "Введите вещественное число: 3\n",
            "Квадрат числа 3.0 равен: 9.0\n"
          ]
        }
      ]
    },
    {
      "cell_type": "markdown",
      "source": [
        "#### 2. Запросите у пользователя вещественное число и округлите его до двух знаков после запятой."
      ],
      "metadata": {
        "id": "rcXGDx7FhGZ7"
      }
    },
    {
      "cell_type": "code",
      "source": [
        "nombre = float(input(\"Введите вещественное число: \"))\n",
        "\n",
        "nombre2 = round(nombre, 2)\n",
        "\n",
        "print(f\"Округленное число: {nombre2}\")"
      ],
      "metadata": {
        "id": "W534mNlphHoW",
        "colab": {
          "base_uri": "https://localhost:8080/"
        },
        "outputId": "84cf7b4d-b70b-493b-b403-570a341343c3"
      },
      "execution_count": 19,
      "outputs": [
        {
          "output_type": "stream",
          "name": "stdout",
          "text": [
            "Введите вещественное число: 3.23523452345235\n",
            "Округленное число: 3.24\n"
          ]
        }
      ]
    },
    {
      "cell_type": "markdown",
      "source": [
        "#### 3. Сложите два числа с плавающей точкой: **2.5** и **4.7**, выведите результат."
      ],
      "metadata": {
        "id": "2HZIMG65hEwD"
      }
    },
    {
      "cell_type": "code",
      "source": [
        "résultat = 2.5 + 4.7\n",
        "\n",
        "print(résultat)"
      ],
      "metadata": {
        "id": "tNhoDLUqhH-Q",
        "colab": {
          "base_uri": "https://localhost:8080/"
        },
        "outputId": "d0d7cf86-7279-4ac4-dc98-430d720736a3"
      },
      "execution_count": 55,
      "outputs": [
        {
          "output_type": "stream",
          "name": "stdout",
          "text": [
            "7.2\n"
          ]
        }
      ]
    },
    {
      "cell_type": "markdown",
      "source": [
        "#### 4. Преобразуйте градусы Цельсия, введенные пользователем, в Фаренгейты по формуле `F = C * 9/5 + 32`."
      ],
      "metadata": {
        "id": "lbX1tt0_hDlr"
      }
    },
    {
      "cell_type": "code",
      "source": [
        "celsius = float(input(\"Введите температуру в градусах Цельсия: \"))\n",
        "\n",
        "fahrenheit = celsius * 9/5 + 32\n",
        "\n",
        "print(f\"{celsius}°C = {fahrenheit}°F\")"
      ],
      "metadata": {
        "id": "tjYR7aRHhILq",
        "colab": {
          "base_uri": "https://localhost:8080/"
        },
        "outputId": "ce3baea8-f011-49df-c3d3-0c0dff6b01d6"
      },
      "execution_count": 21,
      "outputs": [
        {
          "output_type": "stream",
          "name": "stdout",
          "text": [
            "Введите температуру в градусах Цельсия: 11.4\n",
            "11.4°C = 52.52°F\n"
          ]
        }
      ]
    },
    {
      "cell_type": "markdown",
      "source": [
        "#### 5. Получите от пользователя длину и ширину прямоугольника, вычислите его площадь и периметр."
      ],
      "metadata": {
        "id": "RhghSwthhCPJ"
      }
    },
    {
      "cell_type": "code",
      "source": [
        "length = float(input(\"Введите длину прямоугольника: \"))\n",
        "width = float(input(\"Введите ширину прямоугольника: \"))\n",
        "\n",
        "area = length * width\n",
        "\n",
        "perimeter = 2 * (length + width)\n",
        "\n",
        "print(f\"Площадь прямоугольника: {area}\")\n",
        "print(f\"Периметр прямоугольника: {perimeter}\")"
      ],
      "metadata": {
        "id": "GjKTKXmZhIaN",
        "colab": {
          "base_uri": "https://localhost:8080/"
        },
        "outputId": "a0640a25-c7ca-42ec-bd42-8d0b3bd98e5d"
      },
      "execution_count": 23,
      "outputs": [
        {
          "output_type": "stream",
          "name": "stdout",
          "text": [
            "Введите длину прямоугольника: 21\n",
            "Введите ширину прямоугольника: 44\n",
            "Площадь прямоугольника: 924.0\n",
            "Периметр прямоугольника: 130.0\n"
          ]
        }
      ]
    },
    {
      "cell_type": "markdown",
      "source": [
        "## **Блок заданий №5. Тип данных `str`**"
      ],
      "metadata": {
        "id": "CslTMbtXiWOP"
      }
    },
    {
      "cell_type": "markdown",
      "source": [
        "####1. Создайте строку **\"Python - самый популярный язык программирования\"** и выведите ее.\n"
      ],
      "metadata": {
        "id": "KUmla5cCieae"
      }
    },
    {
      "cell_type": "code",
      "source": [
        "texte = str(\"Python - самый популярный язык программирования\")\n",
        "\n",
        "print(texte)"
      ],
      "metadata": {
        "id": "Q7kHloVXlMVB",
        "colab": {
          "base_uri": "https://localhost:8080/"
        },
        "outputId": "d399b7e7-a0ae-4f77-e2ac-b3f650f68e4e"
      },
      "execution_count": 24,
      "outputs": [
        {
          "output_type": "stream",
          "name": "stdout",
          "text": [
            "Python - самый популярный язык программирования\n"
          ]
        }
      ]
    },
    {
      "cell_type": "markdown",
      "source": [
        "####2. Выведите первый и последний символы строки **\"Привет, мир!\"**."
      ],
      "metadata": {
        "id": "ypQL09raiehN"
      }
    },
    {
      "cell_type": "code",
      "source": [
        "texte = \"Привет, мир!\"\n",
        "\n",
        "print(\"Первый символ:\", texte[0])\n",
        "print(\"Последний символ:\", texte[-1])\n",
        "print(type(texte))"
      ],
      "metadata": {
        "id": "iVU99HAUlMpC",
        "colab": {
          "base_uri": "https://localhost:8080/"
        },
        "outputId": "f6de1ed4-2369-48f0-bdc1-681da0ee1987"
      },
      "execution_count": 25,
      "outputs": [
        {
          "output_type": "stream",
          "name": "stdout",
          "text": [
            "Первый символ: П\n",
            "Последний символ: !\n",
            "<class 'str'>\n"
          ]
        }
      ]
    },
    {
      "cell_type": "markdown",
      "source": [
        "####3. Соедините три строки: **\"МИИГАиК - \"** , **\"Лучший \"**, **\"ВУЗ!\"** выведите результат."
      ],
      "metadata": {
        "id": "XxKbQhFkiw83"
      }
    },
    {
      "cell_type": "code",
      "source": [
        "mot1 = \"МИИГАиК - \"\n",
        "mot2 = \"Лучший \"\n",
        "mot3 = \"ВУЗ!\"\n",
        "\n",
        "résultat = mot1 + mot2 + mot3\n",
        "\n",
        "print(résultat)"
      ],
      "metadata": {
        "id": "4amk_NcnlM3T",
        "colab": {
          "base_uri": "https://localhost:8080/"
        },
        "outputId": "fa91d0a5-82df-468e-ff2f-94fbd5236fdd"
      },
      "execution_count": 26,
      "outputs": [
        {
          "output_type": "stream",
          "name": "stdout",
          "text": [
            "МИИГАиК - Лучший ВУЗ!\n"
          ]
        }
      ]
    },
    {
      "cell_type": "markdown",
      "source": [
        "####4. Преобразуйте строку **\"12345\"** в число и выведите тип полученного значения.\n"
      ],
      "metadata": {
        "id": "MXOJX4g8ieoI"
      }
    },
    {
      "cell_type": "code",
      "source": [
        "nombre = int(\"12345\")\n",
        "\n",
        "print(\"Значение:\", nombre)\n",
        "print(\"Тип:\", type(nombre))"
      ],
      "metadata": {
        "id": "t6Wvy7CZlNM2",
        "colab": {
          "base_uri": "https://localhost:8080/"
        },
        "outputId": "7ab73346-8114-4989-b339-8c1e4e17369e"
      },
      "execution_count": 28,
      "outputs": [
        {
          "output_type": "stream",
          "name": "stdout",
          "text": [
            "Значение: 12345\n",
            "Тип: <class 'int'>\n"
          ]
        }
      ]
    },
    {
      "cell_type": "markdown",
      "source": [
        "####5. Сделайте все буквы строки **\"python is Fun\"** заглавными и выведите результат."
      ],
      "metadata": {
        "id": "hhBQ-8gMc0Li"
      }
    },
    {
      "cell_type": "code",
      "source": [
        "texte = \"python is Fun\"\n",
        "\n",
        "texte2 = texte.upper()\n",
        "\n",
        "print(texte2)"
      ],
      "metadata": {
        "id": "n3KLT91zlNgY",
        "colab": {
          "base_uri": "https://localhost:8080/"
        },
        "outputId": "11d77640-b4ba-4135-d856-14a0d8e82935"
      },
      "execution_count": 29,
      "outputs": [
        {
          "output_type": "stream",
          "name": "stdout",
          "text": [
            "PYTHON IS FUN\n"
          ]
        }
      ]
    },
    {
      "cell_type": "markdown",
      "source": [
        "## **Блок заданий №6. Тип данных `list`**"
      ],
      "metadata": {
        "id": "ud5LmPUPlXND"
      }
    },
    {
      "cell_type": "markdown",
      "source": [
        "####1. Создайте список из чисел **[10, 20, 30, 40, 50]** и выведите его.\n"
      ],
      "metadata": {
        "id": "ZDkNefxXlXND"
      }
    },
    {
      "cell_type": "code",
      "source": [
        "numéros = [10, 20, 30, 40, 50]\n",
        "\n",
        "print(numéros)"
      ],
      "metadata": {
        "id": "G6fH9gBLlzI2",
        "colab": {
          "base_uri": "https://localhost:8080/"
        },
        "outputId": "57616b52-2484-4544-c4cd-db967cd13f69"
      },
      "execution_count": 30,
      "outputs": [
        {
          "output_type": "stream",
          "name": "stdout",
          "text": [
            "[10, 20, 30, 40, 50]\n"
          ]
        }
      ]
    },
    {
      "cell_type": "markdown",
      "source": [
        "####2. Добавьте в список строку **\"новый элемент\"** и выведите обновленный список.\n"
      ],
      "metadata": {
        "id": "oDUtdPi-lo7n"
      }
    },
    {
      "cell_type": "code",
      "source": [
        "numéros = [10, 20, 30, 40, 50]\n",
        "\n",
        "numéros.append(\"новый элемент\")\n",
        "\n",
        "print(numéros)"
      ],
      "metadata": {
        "id": "6QhNXffflzXT",
        "colab": {
          "base_uri": "https://localhost:8080/"
        },
        "outputId": "9b2a72c0-e6ae-4768-ba2f-d3c13a389ac5"
      },
      "execution_count": 31,
      "outputs": [
        {
          "output_type": "stream",
          "name": "stdout",
          "text": [
            "[10, 20, 30, 40, 50, 'новый элемент']\n"
          ]
        }
      ]
    },
    {
      "cell_type": "markdown",
      "source": [
        "####3. Из списка `['python', 'java', 'c++', 'ruby', 'perl']` выведите элементы с 2-го по 4-й включительно.\n"
      ],
      "metadata": {
        "id": "BZlOVdc4lo-O"
      }
    },
    {
      "cell_type": "code",
      "source": [
        "numéros = ['python', 'java', 'c++', 'ruby', 'perl']\n",
        "\n",
        "numéros24 = numéros[1:4]\n",
        "\n",
        "print(numéros24)"
      ],
      "metadata": {
        "id": "lU12ExUElzjH",
        "colab": {
          "base_uri": "https://localhost:8080/"
        },
        "outputId": "fde01db4-595f-4db7-e5ea-69566fbe8c20"
      },
      "execution_count": 33,
      "outputs": [
        {
          "output_type": "stream",
          "name": "stdout",
          "text": [
            "['java', 'c++', 'ruby']\n"
          ]
        }
      ]
    },
    {
      "cell_type": "markdown",
      "source": [
        "####4. Создайте пустой список, добавьте в него три любых значения и выведите итоговый список.\n"
      ],
      "metadata": {
        "id": "0dZPxhU_lpCN"
      }
    },
    {
      "cell_type": "code",
      "source": [
        "liste = []\n",
        "\n",
        "liste.append(\"Помогите\")\n",
        "liste.append(\"Я хочу домой\")\n",
        "liste.append(52)\n",
        "\n",
        "print(liste)"
      ],
      "metadata": {
        "id": "pRQ1BHKUlzud",
        "colab": {
          "base_uri": "https://localhost:8080/"
        },
        "outputId": "65f3af22-791f-45a7-9218-6a5427eb925f"
      },
      "execution_count": 36,
      "outputs": [
        {
          "output_type": "stream",
          "name": "stdout",
          "text": [
            "['Помогите', 'Я хочу домой', 52]\n"
          ]
        }
      ]
    },
    {
      "cell_type": "markdown",
      "source": [
        "####5. Измените второй элемент списка **[1, 2, 3, 4, 5]** на число **200** и выведите список."
      ],
      "metadata": {
        "id": "o104mH_plpJl"
      }
    },
    {
      "cell_type": "code",
      "source": [
        "numéros = [1, 2, 3, 4, 5]\n",
        "\n",
        "numéros[1] = 200\n",
        "\n",
        "print(numéros)"
      ],
      "metadata": {
        "id": "ur_sqeAYlz-0",
        "colab": {
          "base_uri": "https://localhost:8080/"
        },
        "outputId": "09ecb505-6d2d-4eec-edc0-26f96d078b78"
      },
      "execution_count": 37,
      "outputs": [
        {
          "output_type": "stream",
          "name": "stdout",
          "text": [
            "[1, 200, 3, 4, 5]\n"
          ]
        }
      ]
    },
    {
      "cell_type": "markdown",
      "source": [
        "## **Блок заданий №7. Тип данных `tuple`**"
      ],
      "metadata": {
        "id": "w7lcJPx9mhLe"
      }
    },
    {
      "cell_type": "markdown",
      "source": [
        "####1. Создайте кортеж из чисел **(1, 2, 3, 4, 5)** и выведите его на экран.\n"
      ],
      "metadata": {
        "id": "HqmF9aMWmeon"
      }
    },
    {
      "cell_type": "code",
      "source": [
        "numéros = (1, 2, 3, 4, 5)\n",
        "\n",
        "print(numéros)"
      ],
      "metadata": {
        "id": "hGuk1KfHn7V7",
        "colab": {
          "base_uri": "https://localhost:8080/"
        },
        "outputId": "f575a696-2550-489a-c86b-b3d7c4b98d52"
      },
      "execution_count": 39,
      "outputs": [
        {
          "output_type": "stream",
          "name": "stdout",
          "text": [
            "(1, 2, 3, 4, 5)\n"
          ]
        }
      ]
    },
    {
      "cell_type": "markdown",
      "source": [
        "####2. Попробуйте изменить первый элемент кортежа и объясните в комментариях к программе, что произошло.\n"
      ],
      "metadata": {
        "id": "_QQf4g6gmerF"
      }
    },
    {
      "cell_type": "code",
      "source": [
        "tuple1 = (1, 2, 3, 4, 5)\n",
        "\n",
        "print('Кортеж нельзя менять')\n",
        "\n",
        "tuple1[1] = 200"
      ],
      "metadata": {
        "id": "sZcbKwV_n7vA",
        "colab": {
          "base_uri": "https://localhost:8080/",
          "height": 193
        },
        "outputId": "0d6e815c-8219-4344-9815-f90170187539"
      },
      "execution_count": 42,
      "outputs": [
        {
          "output_type": "stream",
          "name": "stdout",
          "text": [
            "Кортеж нельзя менять\n"
          ]
        },
        {
          "output_type": "error",
          "ename": "TypeError",
          "evalue": "'tuple' object does not support item assignment",
          "traceback": [
            "\u001b[0;31m---------------------------------------------------------------------------\u001b[0m",
            "\u001b[0;31mTypeError\u001b[0m                                 Traceback (most recent call last)",
            "\u001b[0;32m/tmp/ipython-input-194567681.py\u001b[0m in \u001b[0;36m<cell line: 0>\u001b[0;34m()\u001b[0m\n\u001b[1;32m      3\u001b[0m \u001b[0mprint\u001b[0m\u001b[0;34m(\u001b[0m\u001b[0;34m'Кортеж нельзя менять'\u001b[0m\u001b[0;34m)\u001b[0m\u001b[0;34m\u001b[0m\u001b[0;34m\u001b[0m\u001b[0m\n\u001b[1;32m      4\u001b[0m \u001b[0;34m\u001b[0m\u001b[0m\n\u001b[0;32m----> 5\u001b[0;31m \u001b[0mtuple1\u001b[0m\u001b[0;34m[\u001b[0m\u001b[0;36m1\u001b[0m\u001b[0;34m]\u001b[0m \u001b[0;34m=\u001b[0m \u001b[0;36m200\u001b[0m\u001b[0;34m\u001b[0m\u001b[0;34m\u001b[0m\u001b[0m\n\u001b[0m",
            "\u001b[0;31mTypeError\u001b[0m: 'tuple' object does not support item assignment"
          ]
        }
      ]
    },
    {
      "cell_type": "markdown",
      "source": [
        "####3. Преобразуйте кортеж в строку и выведите результат.\n"
      ],
      "metadata": {
        "id": "6fMHK5femevO"
      }
    },
    {
      "cell_type": "code",
      "source": [
        "tuple2 = ('О', 'с', 'У', 'ж', 'Д', 'а', 'Ю')\n",
        "\n",
        "\n",
        "string1 = ''.join(tuple2)\n",
        "\n",
        "print(string1)"
      ],
      "metadata": {
        "id": "AudeNNOin77h",
        "colab": {
          "base_uri": "https://localhost:8080/"
        },
        "outputId": "a2a01dd4-f77a-406c-f4fe-a01641d1dd27"
      },
      "execution_count": 43,
      "outputs": [
        {
          "output_type": "stream",
          "name": "stdout",
          "text": [
            "ОсУжДаЮ\n"
          ]
        }
      ]
    },
    {
      "cell_type": "markdown",
      "source": [
        "####4. Проверьте, содержится ли определенный элемент в кортеже, выведите соответствующее сообщение.\n"
      ],
      "metadata": {
        "id": "HOOFXQYtmeyG"
      }
    },
    {
      "cell_type": "code",
      "source": [
        "tuple3 = ('Росиия', 'Украина', 'Беларусь')\n",
        "\n",
        "search = 'Беларусь'\n",
        "\n",
        "if search in tuple3:\n",
        "    print(f\"'{search}' содержится в кортеже\")\n",
        "else:\n",
        "    print(f\"'{search}' не содержится в кортеже\")"
      ],
      "metadata": {
        "id": "PlPkzGCon8N2",
        "colab": {
          "base_uri": "https://localhost:8080/"
        },
        "outputId": "51a835fa-724b-4339-ebee-a779a24973ba"
      },
      "execution_count": 45,
      "outputs": [
        {
          "output_type": "stream",
          "name": "stdout",
          "text": [
            "'Беларусь' содержится в кортеже\n"
          ]
        }
      ]
    },
    {
      "cell_type": "markdown",
      "source": [
        "####5. Создайте кортеж, состоящий из нескольких одинаковых элементов, и найдите их количество с помощью метода `count()`.\n"
      ],
      "metadata": {
        "id": "HSi5wD3xme3I"
      }
    },
    {
      "cell_type": "code",
      "source": [
        "tuple4 = (1, 2, 3, 2, 4, 2, 5, 2, 6, 2)\n",
        "\n",
        "count = tuple4.count(2)\n",
        "\n",
        "print(f\"Число 2 встречается в кортеже {count} раз(а)\")"
      ],
      "metadata": {
        "id": "G5eyJNkZn8aw",
        "colab": {
          "base_uri": "https://localhost:8080/"
        },
        "outputId": "08dd019d-60e8-46bc-e539-2222f4f02924"
      },
      "execution_count": 46,
      "outputs": [
        {
          "output_type": "stream",
          "name": "stdout",
          "text": [
            "Число 2 встречается в кортеже 5 раз(а)\n"
          ]
        }
      ]
    },
    {
      "cell_type": "markdown",
      "source": [
        "## **Блок заданий №8. Тип данных `dict`**"
      ],
      "metadata": {
        "id": "v7nByOSzn6Gs"
      }
    },
    {
      "cell_type": "markdown",
      "source": [
        "####1. Создайте словарь с данными о себе: ключи **\"имя\"**, **\"возраст\"**, **\"город\"**; выведите его.\n"
      ],
      "metadata": {
        "id": "SdH7l87WoNxs"
      }
    },
    {
      "cell_type": "code",
      "source": [
        "All_About_Us = {\n",
        "    \"имя\": \"Дима\",\n",
        "    \"возраст\": 21,\n",
        "    \"город\": \"Нижний Новгород\"\n",
        "}\n",
        "\n",
        "print(All_About_Us)"
      ],
      "metadata": {
        "id": "G_5mPREsoO__",
        "colab": {
          "base_uri": "https://localhost:8080/"
        },
        "outputId": "02531b6f-2889-4379-b247-38c9d58803cd"
      },
      "execution_count": 50,
      "outputs": [
        {
          "output_type": "stream",
          "name": "stdout",
          "text": [
            "{'имя': 'Дима', 'возраст': 21, 'город': 'Нижний Новгород'}\n"
          ]
        }
      ]
    },
    {
      "cell_type": "markdown",
      "source": [
        "####2. Выведите значение по ключу **\"имя\"** из созданного словаря.\n"
      ],
      "metadata": {
        "id": "nsoYMyesoMxq"
      }
    },
    {
      "cell_type": "code",
      "source": [
        "print(All_About_Us[\"имя\"])"
      ],
      "metadata": {
        "id": "OL_waQuioPSG",
        "colab": {
          "base_uri": "https://localhost:8080/"
        },
        "outputId": "9e536d19-a900-4fea-e7ce-5831cc883bee"
      },
      "execution_count": 51,
      "outputs": [
        {
          "output_type": "stream",
          "name": "stdout",
          "text": [
            "Дима\n"
          ]
        }
      ]
    },
    {
      "cell_type": "markdown",
      "source": [
        "####3. Добавьте в словарь новый ключ **\"профессия\"** со значением и выведите словарь.\n"
      ],
      "metadata": {
        "id": "0T_miCFjoLhI"
      }
    },
    {
      "cell_type": "code",
      "source": [
        "All_About_Us[\"профессия\"] = \"(^˵◕ω◕˵^) \"\n",
        "\n",
        "print(All_About_Us)"
      ],
      "metadata": {
        "id": "5LOqyJAHoPfn",
        "colab": {
          "base_uri": "https://localhost:8080/"
        },
        "outputId": "80be4b8f-678d-4dfa-e5da-812a61d19380"
      },
      "execution_count": 52,
      "outputs": [
        {
          "output_type": "stream",
          "name": "stdout",
          "text": [
            "{'имя': 'Дима', 'возраст': 21, 'город': 'Нижний Новгород', 'профессия': '(^˵◕ω◕˵^) '}\n"
          ]
        }
      ]
    },
    {
      "cell_type": "markdown",
      "source": [
        "####4. Удалите из словаря ключ **\"город\"** и выведите обновленный словарь.\n"
      ],
      "metadata": {
        "id": "QPwxJK74oKZ3"
      }
    },
    {
      "cell_type": "code",
      "source": [
        "del All_About_Us[\"город\"]\n",
        "\n",
        "print(All_About_Us)"
      ],
      "metadata": {
        "id": "3dPMpP1koPrR",
        "colab": {
          "base_uri": "https://localhost:8080/"
        },
        "outputId": "8d0e224e-d483-4c0c-ab5f-d388d7aa9050"
      },
      "execution_count": 53,
      "outputs": [
        {
          "output_type": "stream",
          "name": "stdout",
          "text": [
            "{'имя': 'Дима', 'возраст': 21, 'профессия': '(^˵◕ω◕˵^) '}\n"
          ]
        }
      ]
    },
    {
      "cell_type": "markdown",
      "source": [
        "####5. Создайте пустой словарь и добавьте в него пару ключ-значение, введенных пользователем."
      ],
      "metadata": {
        "id": "7UDgxikGoJXz"
      }
    },
    {
      "cell_type": "code",
      "source": [
        "dict1 = {}\n",
        "\n",
        "key = input(\"Введите ключ: \")\n",
        "value = input(\"Введите значение: \")\n",
        "\n",
        "dict1[key] = value\n",
        "\n",
        "print(\"Обновленный словарь:\", dict1)"
      ],
      "metadata": {
        "id": "AofDComvoP2d",
        "colab": {
          "base_uri": "https://localhost:8080/"
        },
        "outputId": "fec3b27a-6df3-4aa4-83d7-3901b5aed295"
      },
      "execution_count": 54,
      "outputs": [
        {
          "output_type": "stream",
          "name": "stdout",
          "text": [
            "Введите ключ: Знаменитый Итальянец \n",
            "Введите значение: Тум тум тум Савур\n",
            "Обновленный словарь: {'Знаменитый Итальянец ': 'Тум тум тум Савур'}\n"
          ]
        }
      ]
    }
  ]
}