{
  "nbformat": 4,
  "nbformat_minor": 0,
  "metadata": {
    "colab": {
      "provenance": [],
      "include_colab_link": true
    },
    "kernelspec": {
      "name": "python3",
      "display_name": "Python 3"
    },
    "language_info": {
      "name": "python"
    }
  },
  "cells": [
    {
      "cell_type": "markdown",
      "metadata": {
        "id": "view-in-github",
        "colab_type": "text"
      },
      "source": [
        "<a href=\"https://colab.research.google.com/github/DinRazar/universite/blob/main/Copy_of_%D0%94%D0%9F%D0%9E_%D0%9E%D1%81%D0%BD%D0%BE%D0%B2%D1%8B_Python_%D0%9F%D1%80%D0%B0%D0%BA%D1%82%D0%B8%D1%87%D0%B5%D1%81%D0%BA%D0%B0%D1%8F_%D1%80%D0%B0%D0%B1%D0%BE%D1%82%D0%B0_3.ipynb\" target=\"_parent\"><img src=\"https://colab.research.google.com/assets/colab-badge.svg\" alt=\"Open In Colab\"/></a>"
      ]
    },
    {
      "cell_type": "markdown",
      "source": [
        "# **Практическая работа №3. Введение в Python. Модули и пакеты**\n",
        "\n",
        "---\n",
        "\n",
        "\n"
      ],
      "metadata": {
        "id": "QliphIp1pbse"
      }
    },
    {
      "cell_type": "markdown",
      "source": [
        "**Обучающийся:** *[Наумов Д.Д.]*\n",
        "\n",
        "\n",
        "\n"
      ],
      "metadata": {
        "id": "tTK8mNGDqA8Z"
      }
    },
    {
      "cell_type": "markdown",
      "source": [
        "\n",
        "\n",
        "---"
      ],
      "metadata": {
        "id": "wTJjWD61p_dZ"
      }
    },
    {
      "cell_type": "markdown",
      "source": [
        "## **Цель работы:**\n"
      ],
      "metadata": {
        "id": "8sycqVegUH85"
      }
    },
    {
      "cell_type": "markdown",
      "source": [
        "Создать Python-пакет, включающий функции для преобразования координат между декартовой и сферической системами, а также для работы с файлами. Реализовать консольный интерфейс для взаимодействия с функциями пакета."
      ],
      "metadata": {
        "id": "bdHCMBx4UJTb"
      }
    },
    {
      "cell_type": "markdown",
      "source": [
        "## **Задачи:**\n"
      ],
      "metadata": {
        "id": "aziouLamURhA"
      }
    },
    {
      "cell_type": "markdown",
      "source": [
        "1. Создать структуру пакета с необходимыми модулями.\n",
        "2. Реализовать функции для преобразования координат.\n",
        "3. Реализовать функции для работы с файлами.\n",
        "4. Создать файл `__main__.py` с консольным интерфейсом для работы с пакетом.\n",
        "5. Проверить работоспособность пакета на примере."
      ],
      "metadata": {
        "id": "ZyNB5M23US9G"
      }
    },
    {
      "cell_type": "markdown",
      "source": [
        "## **Теоретическая часть:**"
      ],
      "metadata": {
        "id": "AoEP4riFYmrE"
      }
    },
    {
      "cell_type": "markdown",
      "source": [
        "1. **Преобразование декартовых координат в сферические:**\n",
        "\n",
        "   *Формулы для преобразования:*\n",
        "\n",
        "   $\n",
        "   r = \\sqrt{x^2 + y^2 + z^2}\n",
        "   $\n",
        "\n",
        "   - Эта формула вычисляет радиус $r$ от начала координат до точки с координатами $(x, y, z)$ в декартовой системе. Это расстояние в пространстве.\n",
        "\n",
        "   $\n",
        "   \\theta = 2 \\cdot \\text{atan2}(y, x + \\sqrt{x^2 + y^2})\n",
        "   $\n",
        "\n",
        "   - Формула для $\\theta$ (азимутальный угол) использует функцию $\\text{atan2}$, которая возвращает угол в радианах между положительной осью $x$ и точкой $(x, y)$. Умножение на 2 и добавление $\\sqrt{x^2 + y^2}$ в знаменатель обеспечивает корректное определение угла в диапазоне от 0 до $2\\pi$.\n",
        "\n",
        "   $\n",
        "   \\phi = \\text{atan2}(\\sqrt{x^2 + y^2}, z)\n",
        "   $\n",
        "\n",
        "   - Формула для $\\phi$ (полярный угол) также использует $\\text{atan2}$, но здесь она вычисляет угол между положительной осью $z$ и вектором от начала координат до точки. Это значение также получается в радианах.\n",
        "\n",
        "   **Значения $\\theta$ и $\\phi$ получаются в радианах. Для перевода их в градусы необходимо умножить на $\\frac{180}{\\pi}$.**\n",
        "\n",
        "\n",
        "\n"
      ],
      "metadata": {
        "id": "pEAfpUD_UYNL"
      }
    },
    {
      "cell_type": "markdown",
      "source": [
        "2. **Преобразование сферических координат в декартовые:**\n",
        "\n",
        "  *Формулы для преобразования:*\n",
        "\n",
        "   $\n",
        "   x = r \\cdot \\sin(\\phi) \\cdot \\cos(\\theta)\n",
        "   $\n",
        "   \n",
        "   - Эта формула вычисляет координату $x$ в декартовой системе, используя радиус $r$, полярный угол $\\phi$ и азимутальный угол $\\theta$.\n",
        "\n",
        "   $\n",
        "   y = r \\cdot \\sin(\\phi) \\cdot \\sin(\\theta)\n",
        "   $\n",
        "\n",
        "   - Аналогично, эта формула вычисляет координату $y$ в декартовой системе.\n",
        "\n",
        "   $\n",
        "   z = r \\cdot \\cos(\\phi)\n",
        "   $\n",
        "   \n",
        "   - Эта формула вычисляет координату $z$ в декартовой системе, используя радиус $r$ и полярный угол $\\phi$.\n",
        "\n",
        "   **Значения $\\theta$ и $\\phi$ должны быть заданы в радианах. Если они заданы в градусах, их необходимо предварительно перевести в радианы, умножив на $\\frac{\\pi}{180}$.**"
      ],
      "metadata": {
        "id": "PNgijVwBZQxC"
      }
    },
    {
      "cell_type": "markdown",
      "source": [
        "3. **Преобразование между градусами и радианами:**\n",
        "\n",
        "   $\n",
        "   \\text{градусы} \\rightarrow \\text{радианы}: \\text{degrees} \\cdot \\frac{\\pi}{180}\n",
        "   $\n",
        "   - Эта формула используется для перевода углов из градусов в радианы.\n",
        "\n",
        "   $\n",
        "   \\text{радианы} \\rightarrow \\text{градусы}: \\text{radians} \\cdot \\frac{180}{\\pi}\n",
        "   $\n",
        "   - Эта формула используется для перевода углов из радиан в градусы."
      ],
      "metadata": {
        "id": "km-P3kvIZOo9"
      }
    },
    {
      "cell_type": "code",
      "source": [
        "import math\n",
        "\n",
        "# Пример расчета синуса и косинуса от угла в градусах\n",
        "angle_degrees = 45  # Угол в градусах\n",
        "\n",
        "# Преобразование градусов в радианы\n",
        "angle_radians = math.radians(angle_degrees)\n",
        "\n",
        "# Расчет синуса и косинуса\n",
        "sin_value = math.sin(angle_radians)\n",
        "cos_value = math.cos(angle_radians)\n",
        "\n",
        "print(f\"Синус {angle_degrees} градусов: {sin_value}\")\n",
        "print(f\"Косинус {angle_degrees} градусов: {cos_value}\")"
      ],
      "metadata": {
        "colab": {
          "base_uri": "https://localhost:8080/"
        },
        "id": "UbLbordBWolF",
        "outputId": "375e5e96-02fc-42e5-cd01-4534c65429b8"
      },
      "execution_count": null,
      "outputs": [
        {
          "output_type": "stream",
          "name": "stdout",
          "text": [
            "Синус 45 градусов: 0.7071067811865475\n",
            "Косинус 45 градусов: 0.7071067811865476\n"
          ]
        }
      ]
    },
    {
      "cell_type": "code",
      "source": [
        "# Пример расчета atan2 и преобразования результата в градусы\n",
        "y = 1\n",
        "x = 5\n",
        "\n",
        "# Расчет atan2 в радианах\n",
        "atan2_radians = math.atan2(y, x)\n",
        "\n",
        "# Преобразование результата atan2 в градусы\n",
        "atan2_degrees = math.degrees(atan2_radians)\n",
        "\n",
        "print(f\"atan2({y}, {x}) в радианах: {atan2_radians}\")\n",
        "print(f\"atan2({y}, {x}) в градусах: {atan2_degrees}\")"
      ],
      "metadata": {
        "colab": {
          "base_uri": "https://localhost:8080/"
        },
        "id": "r6gfmCU2XN-j",
        "outputId": "9561f326-c331-48f4-f89d-7a3316521615"
      },
      "execution_count": null,
      "outputs": [
        {
          "output_type": "stream",
          "name": "stdout",
          "text": [
            "atan2(1, 5) в радианах: 0.19739555984988075\n",
            "atan2(1, 5) в градусах: 11.309932474020213\n"
          ]
        }
      ]
    },
    {
      "cell_type": "markdown",
      "source": [
        "\n",
        "\n",
        "## **Практическая часть:**\n",
        "\n"
      ],
      "metadata": {
        "id": "xjcf5dryT4q6"
      }
    },
    {
      "cell_type": "markdown",
      "source": [
        "1. **Создание структуры пакета:**\n",
        "   Создайте директорию `geo_transform` и в ней следующие файлы:\n",
        "   - `__init__.py`\n",
        "   - `transformations.py`\n",
        "   - `utils.py`\n",
        "   - `file_operations.py`\n",
        "   - `__main__.py`\n",
        "\n",
        "2. **Реализация функций преобразования координат:**\n",
        "   В файле `transformations.py` реализуйте функции `cartesian_to_spherical` и `spherical_to_cartesian` с использованием приведенных выше формул.\n",
        "\n",
        "3. **Реализация вспомогательных функций:**\n",
        "   В файле `utils.py` реализуйте функции `deg_to_rad` и `rad_to_deg`.\n",
        "\n",
        "4. **Реализация функций для работы с файлами:**\n",
        "   В файле `file_operations.py` реализуйте функции `write_results_to_file` и `read_coordinates_from_file` для записи и чтения координат из текстовых файлов.\n",
        "\n",
        "5. **Создание `__init__.py`:**\n",
        "   В файле `__init__.py` добавьте импорты всех необходимых функций из других модулей.\n",
        "\n",
        "6. **Реализация консольного интерфейса в `__main__.py`:**\n",
        "   В файле `__main__.py` реализуйте консольный интерфейс для работы с функциями пакета.\n",
        "\n",
        "7. **Проверка работоспособности пакета:**\n",
        "   Запустите пакет как отдельную программу. Проверьте все функции через консольный интерфейс. Импортируйте пакет в стороннем модуле, убедитесь, что все функции работают корректно."
      ],
      "metadata": {
        "id": "3DlYz5qrVG-C"
      }
    },
    {
      "cell_type": "markdown",
      "source": [
        "\n",
        "\n",
        "## **Демонстрация результата:**\n",
        "\n"
      ],
      "metadata": {
        "id": "iIyfPBIGbPdQ"
      }
    },
    {
      "cell_type": "markdown",
      "source": [
        "Вставьте код каждого из ваших модулей в соответствующие ячейки ниже.\n",
        "\n",
        "**Строку, начинающуюся на %%writefile... стирать запрещено**"
      ],
      "metadata": {
        "id": "1ARiSwg3bKML"
      }
    },
    {
      "cell_type": "markdown",
      "source": [
        "### **Содержимое модуля \\_\\_init__.py:**"
      ],
      "metadata": {
        "id": "kcPKYl5abzNp"
      }
    },
    {
      "cell_type": "code",
      "source": [
        "!mkdir geo_transform"
      ],
      "metadata": {
        "id": "T5t41w-tbD5I"
      },
      "execution_count": 1,
      "outputs": []
    },
    {
      "cell_type": "code",
      "source": [
        "%%writefile geo_transform/__init__.py\n",
        "\n",
        "from .transformations import cartesian_to_spherical, spherical_to_cartesian\n",
        "from .utils import deg_to_rad, rad_to_deg\n",
        "from .file_operations import write_results_to_file, read_coordinates_from_file\n",
        "\n",
        "__all__ = [\n",
        "    'cartesian_to_spherical',\n",
        "    'spherical_to_cartesian',\n",
        "    'deg_to_rad',\n",
        "    'rad_to_deg',\n",
        "    'write_results_to_file',\n",
        "    'read_coordinates_from_file'\n",
        "]"
      ],
      "metadata": {
        "id": "p_UraYekagmv",
        "colab": {
          "base_uri": "https://localhost:8080/"
        },
        "outputId": "09852746-d358-4516-946a-6f74f9241d59"
      },
      "execution_count": 2,
      "outputs": [
        {
          "output_type": "stream",
          "name": "stdout",
          "text": [
            "Writing geo_transform/__init__.py\n"
          ]
        }
      ]
    },
    {
      "cell_type": "markdown",
      "source": [
        "### **Содержимое модуля transformations.py:**"
      ],
      "metadata": {
        "id": "GfgJWdI7cHoW"
      }
    },
    {
      "cell_type": "code",
      "source": [
        "%%writefile geo_transform/transformations.py\n",
        "\n",
        "import math\n",
        "from .utils import deg_to_rad, rad_to_deg\n",
        "\n",
        "def cartesian_to_spherical(x, y, z, to_degrees=True):\n",
        "    \"\"\"\n",
        "    Преобразует декартовы координаты в сферические\n",
        "\n",
        "    Args:\n",
        "        x, y, z: декартовы координаты\n",
        "        to_degrees: если True, возвращает углы в градусах\n",
        "\n",
        "    Returns:\n",
        "        tuple: (r, theta, phi)\n",
        "    \"\"\"\n",
        "    r = math.sqrt(x**2 + y**2 + z**2)\n",
        "\n",
        "    theta = math.atan2(y, x)\n",
        "\n",
        "    if r == 0:\n",
        "        phi = 0\n",
        "    else:\n",
        "        phi = math.acos(z / r)\n",
        "\n",
        "    if to_degrees:\n",
        "        theta = rad_to_deg(theta)\n",
        "        phi = rad_to_deg(phi)\n",
        "\n",
        "    return r, theta, phi\n",
        "\n",
        "def spherical_to_cartesian(r, theta, phi, from_degrees=True):\n",
        "    \"\"\"\n",
        "    Преобразует сферические координаты в декартовы\n",
        "\n",
        "    Args:\n",
        "        r: радиус\n",
        "        theta: азимутальный угол\n",
        "        phi: полярный угол\n",
        "        from_degrees: если True, углы заданы в градусах\n",
        "\n",
        "    Returns:\n",
        "        tuple: (x, y, z)\n",
        "    \"\"\"\n",
        "    if from_degrees:\n",
        "        theta = deg_to_rad(theta)\n",
        "        phi = deg_to_rad(phi)\n",
        "\n",
        "    x = r * math.sin(phi) * math.cos(theta)\n",
        "    y = r * math.sin(phi) * math.sin(theta)\n",
        "    z = r * math.cos(phi)\n",
        "\n",
        "    return x, y, z\n"
      ],
      "metadata": {
        "id": "PEwM6HmucHoX",
        "colab": {
          "base_uri": "https://localhost:8080/"
        },
        "outputId": "14080ab1-2277-41d7-a308-683a5f991060"
      },
      "execution_count": 3,
      "outputs": [
        {
          "output_type": "stream",
          "name": "stdout",
          "text": [
            "Writing geo_transform/transformations.py\n"
          ]
        }
      ]
    },
    {
      "cell_type": "markdown",
      "source": [
        "### **Содержимое модуля utils.py:**"
      ],
      "metadata": {
        "id": "tw_9FXFkcIBq"
      }
    },
    {
      "cell_type": "code",
      "source": [
        "%%writefile geo_transform/utils.py\n",
        "\n",
        "import math\n",
        "\n",
        "def deg_to_rad(degrees):\n",
        "    return degrees * math.pi / 180\n",
        "\n",
        "def rad_to_deg(radians):\n",
        "    return radians * 180 / math.pi\n"
      ],
      "metadata": {
        "id": "y96uQcmTcIBr",
        "colab": {
          "base_uri": "https://localhost:8080/"
        },
        "outputId": "4b6d8c0b-25cc-4cf8-cfce-59bcc41cc6f0"
      },
      "execution_count": 4,
      "outputs": [
        {
          "output_type": "stream",
          "name": "stdout",
          "text": [
            "Writing geo_transform/utils.py\n"
          ]
        }
      ]
    },
    {
      "cell_type": "markdown",
      "source": [
        "### **Содержимое модуля file_operations.py:**"
      ],
      "metadata": {
        "id": "kmYf0AOwcIOg"
      }
    },
    {
      "cell_type": "code",
      "source": [
        "%%writefile geo_transform/file_operations.py\n",
        "\n",
        "import json\n",
        "\n",
        "def write_results_to_file(results, filename):\n",
        "    \"\"\"\n",
        "    Записывает результаты преобразований в файл\n",
        "\n",
        "    Args:\n",
        "        results: список результатов\n",
        "        filename: имя файла\n",
        "    \"\"\"\n",
        "    with open(filename, 'w', encoding='utf-8') as f:\n",
        "        for result in results:\n",
        "            f.write(str(result) + '\\n')\n",
        "\n",
        "def read_coordinates_from_file(filename, coord_type='cartesian'):\n",
        "    \"\"\"\n",
        "    Читает координаты из файла\n",
        "\n",
        "    Args:\n",
        "        filename: имя файла\n",
        "        coord_type: тип координат ('cartesian' или 'spherical')\n",
        "\n",
        "    Returns:\n",
        "        list: список координат\n",
        "    \"\"\"\n",
        "    coordinates = []\n",
        "    with open(filename, 'r', encoding='utf-8') as f:\n",
        "        for line in f:\n",
        "            line = line.strip()\n",
        "            if line:\n",
        "                coords = [float(x) for x in line.split()]\n",
        "                coordinates.append(coords)\n",
        "\n",
        "    return coordinates\n"
      ],
      "metadata": {
        "id": "HkmXurkjcIOg",
        "colab": {
          "base_uri": "https://localhost:8080/"
        },
        "outputId": "5db9df49-8a84-41c3-8d70-309984c7229b"
      },
      "execution_count": 5,
      "outputs": [
        {
          "output_type": "stream",
          "name": "stdout",
          "text": [
            "Writing geo_transform/file_operations.py\n"
          ]
        }
      ]
    },
    {
      "cell_type": "markdown",
      "source": [
        "### **Содержимое модуля \\_\\_main__.py:**"
      ],
      "metadata": {
        "id": "qUQb0g_RcaUd"
      }
    },
    {
      "cell_type": "code",
      "source": [
        "%%writefile geo_transform/__main__.py\n",
        "\n",
        "import sys\n",
        "from .transformations import cartesian_to_spherical, spherical_to_cartesian\n",
        "from .file_operations import write_results_to_file, read_coordinates_from_file\n",
        "\n",
        "def main():\n",
        "    print(\"=== Пакет преобразования координат ===\\n\")\n",
        "\n",
        "    while True:\n",
        "        print(\"Выберите действие:\")\n",
        "        print(\"1. Преобразовать декартовы координаты в сферические\")\n",
        "        print(\"2. Преобразовать сферические координаты в декартовы\")\n",
        "        print(\"3. Обработать файл с координатами\")\n",
        "        print(\"4. Выход\")\n",
        "\n",
        "        choice = input(\"\\nВаш выбор (1-4): \").strip()\n",
        "\n",
        "        if choice == '1':\n",
        "            # Декартовы в сферические\n",
        "            try:\n",
        "                x = float(input(\"Введите x: \"))\n",
        "                y = float(input(\"Введите y: \"))\n",
        "                z = float(input(\"Введите z: \"))\n",
        "\n",
        "                r, theta, phi = cartesian_to_spherical(x, y, z)\n",
        "                print(f\"Результат: r={r:.2f}, theta={theta:.2f}°, phi={phi:.2f}°\")\n",
        "\n",
        "                save = input(\"Сохранить в файл? (y/n): \").lower()\n",
        "                if save == 'y':\n",
        "                    write_results_to_file([f\"Декартовы: ({x}, {y}, {z}) -> Сферические: (r={r:.2f}, θ={theta:.2f}°, φ={phi:.2f}°)\"],\n",
        "                                         \"results.txt\")\n",
        "                    print(\"Результат сохранен в results.txt\")\n",
        "\n",
        "            except ValueError:\n",
        "                print(\"Ошибка: введите числа!\")\n",
        "\n",
        "        elif choice == '2':\n",
        "            # Сферические в декартовы\n",
        "            try:\n",
        "                r = float(input(\"Введите r: \"))\n",
        "                theta = float(input(\"Введите theta (градусы): \"))\n",
        "                phi = float(input(\"Введите phi (градусы): \"))\n",
        "\n",
        "                x, y, z = spherical_to_cartesian(r, theta, phi)\n",
        "                print(f\"Результат: x={x:.2f}, y={y:.2f}, z={z:.2f}\")\n",
        "\n",
        "                save = input(\"Сохранить в файл? (y/n): \").lower()\n",
        "                if save == 'y':\n",
        "                    write_results_to_file([f\"Сферические: (r={r}, θ={theta}°, φ={phi}°) -> Декартовы: ({x:.2f}, {y:.2f}, {z:.2f})\"],\n",
        "                                         \"results.txt\")\n",
        "                    print(\"Результат сохранен в results.txt\")\n",
        "\n",
        "            except ValueError:\n",
        "                print(\"Ошибка: введите числа!\")\n",
        "\n",
        "        elif choice == '3':\n",
        "            filename = input(\"Введите имя файла: \")\n",
        "            try:\n",
        "                coords = read_coordinates_from_file(filename)\n",
        "                results = []\n",
        "\n",
        "                for coord in coords:\n",
        "                    if len(coord) == 3:\n",
        "                        x, y, z = coord\n",
        "                        r, theta, phi = cartesian_to_spherical(x, y, z)\n",
        "                        result = f\"({x}, {y}, {z}) -> (r={r:.2f}, θ={theta:.2f}°, φ={phi:.2f}°)\"\n",
        "                        results.append(result)\n",
        "                        print(result)\n",
        "\n",
        "                if results:\n",
        "                    write_results_to_file(results, \"batch_results.txt\")\n",
        "                    print(f\"\\nВсе результаты сохранены в batch_results.txt\")\n",
        "\n",
        "            except FileNotFoundError:\n",
        "                print(\"Файл не найден!\")\n",
        "            except Exception as e:\n",
        "                print(f\"Ошибка при обработке файла: {e}\")\n",
        "\n",
        "        elif choice == '4':\n",
        "            print(\"Выход из программы.\")\n",
        "            break\n",
        "\n",
        "        else:\n",
        "            print(\"Неверный выбор! Попробуйте снова.\")\n",
        "\n",
        "        print(\"\\n\" + \"=\"*50 + \"\\n\")\n",
        "\n",
        "if __name__ == \"__main__\":\n",
        "    main()\n"
      ],
      "metadata": {
        "id": "qzNV09hfcaUe",
        "colab": {
          "base_uri": "https://localhost:8080/"
        },
        "outputId": "e3a87704-2f2b-4ca2-819f-b2bf97186b76"
      },
      "execution_count": 6,
      "outputs": [
        {
          "output_type": "stream",
          "name": "stdout",
          "text": [
            "Writing geo_transform/__main__.py\n"
          ]
        }
      ]
    },
    {
      "cell_type": "markdown",
      "source": [
        "### **Содержимое модуля main.py (с импортом пакета и тестированием функций из него):**"
      ],
      "metadata": {
        "id": "vGqPXMcdcpxE"
      }
    },
    {
      "cell_type": "code",
      "source": [
        "from geo_transform import cartesian_to_spherical, spherical_to_cartesian\n",
        "from geo_transform import deg_to_rad, rad_to_deg\n",
        "\n",
        "print(\"=== Тестирование преобразований ===\\n\")\n",
        "\n",
        "# Тест 1: Декартовы в сферические\n",
        "x, y, z = 1, 1, 1\n",
        "r, theta, phi = cartesian_to_spherical(x, y, z)\n",
        "print(f\"Декартовы ({x}, {y}, {z}) -> Сферические:\")\n",
        "print(f\"  r = {r:.2f}, theta = {theta:.2f}°, phi = {phi:.2f}°\")\n",
        "\n",
        "# Тест 2: Сферические в декартовы\n",
        "x_back, y_back, z_back = spherical_to_cartesian(r, theta, phi)\n",
        "print(f\"Сферические (r={r:.2f}, θ={theta:.2f}°, φ={phi:.2f}°) -> Декартовы:\")\n",
        "print(f\"  x = {x_back:.2f}, y = {y_back:.2f}, z = {z_back:.2f}\")\n",
        "\n",
        "# Тест 3: Преобразование градусы в радианы\n",
        "degrees = 180\n",
        "radians = deg_to_rad(degrees)\n",
        "print(f\"\\n{degrees}° = {radians:.2f} радиан\")\n",
        "print(f\"{radians:.2f} радиан = {rad_to_deg(radians):.2f}°\")"
      ],
      "metadata": {
        "id": "4b1mRDL6cpxE",
        "colab": {
          "base_uri": "https://localhost:8080/"
        },
        "outputId": "2a3d0c18-b3c2-4216-a5c1-53a03b11a19f"
      },
      "execution_count": 7,
      "outputs": [
        {
          "output_type": "stream",
          "name": "stdout",
          "text": [
            "=== Тестирование преобразований ===\n",
            "\n",
            "Декартовы (1, 1, 1) -> Сферические:\n",
            "  r = 1.73, theta = 45.00°, phi = 54.74°\n",
            "Сферические (r=1.73, θ=45.00°, φ=54.74°) -> Декартовы:\n",
            "  x = 1.00, y = 1.00, z = 1.00\n",
            "\n",
            "180° = 3.14 радиан\n",
            "3.14 радиан = 180.00°\n"
          ]
        }
      ]
    }
  ]
}