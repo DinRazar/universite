{
  "nbformat": 4,
  "nbformat_minor": 0,
  "metadata": {
    "colab": {
      "provenance": [],
      "include_colab_link": true
    },
    "kernelspec": {
      "name": "python3",
      "display_name": "Python 3"
    },
    "language_info": {
      "name": "python"
    }
  },
  "cells": [
    {
      "cell_type": "markdown",
      "metadata": {
        "id": "view-in-github",
        "colab_type": "text"
      },
      "source": [
        "<a href=\"https://colab.research.google.com/github/DinRazar/universite/blob/main/Copy_of_%D0%9F%D1%80%D0%B0%D0%BA%D1%82%D0%B8%D1%87%D0%B5%D1%81%D0%BA%D0%B0%D1%8F_%D1%80%D0%B0%D0%B1%D0%BE%D1%82%D0%B0_%E2%84%963_%D0%92%D0%B2%D0%B5%D0%B4%D0%B5%D0%BD%D0%B8%D0%B5_%D0%B2_%D0%9E%D0%9E%D0%9F.ipynb\" target=\"_parent\"><img src=\"https://colab.research.google.com/assets/colab-badge.svg\" alt=\"Open In Colab\"/></a>"
      ]
    },
    {
      "cell_type": "markdown",
      "source": [
        "# **Практическая работа №3. Введение в ООП**\n",
        "\n",
        "\n"
      ],
      "metadata": {
        "id": "s-EuQCpnWXCn"
      }
    },
    {
      "cell_type": "markdown",
      "source": [
        "## **Задание №1. Создайте класс Sphere для представления сферы в трехмерном пространстве**\n"
      ],
      "metadata": {
        "id": "TQ5SpdjdbD4D"
      }
    },
    {
      "cell_type": "markdown",
      "source": [
        "Обеспечьте следующие методы класса:\n",
        "\n",
        "1. Конструктор, принимающий 4 действительных числа: радиус, и 3 координаты центра шара. Если конструктор вызывается без аргументов, создать объект сферы с единичным радиусом и центром в начале координат. Если конструктор вызывается с аргументом, создать объект сферы с соответствующим радиусом и центром в начале координат.\n",
        "\n",
        "2. Метод get_volume (), который возвращает действительное число — объем шара, ограниченной текущей сферой.\n",
        "\n",
        "3. Метод get_square (), который возвращает действительное число — площадь внешней поверхности сферы.\n",
        "\n",
        "4. Метод get_radius (), который возвращает действительное число — радиус сферы.\n",
        "\n",
        "5. Метод get_center (), который возвращает тьюпл с 3 действительными числами — координатами центра сферы в том же порядке, в каком они задаются в конструкторе.\n",
        "\n",
        "6. Метод set_radius (r), который принимает 1 аргумент — действительное число, и меняет радиус текущей сферы, ничего не возвращая.\n",
        "\n",
        "7. Метод set_center (x, y, z), который принимает 3 аргумента — действительных числа, и меняет координаты центра сферы, ничего не возвращая. Координаты задаются в том же порядке, что и в конструкторе.\n",
        "\n",
        "8. Метод is_point_inside (x, y, z), который принимает 3 аргумента — действительных числа — координаты некоторой точки в пространстве (в том же порядке, что и в конструкторе), и возвращает логическое значение True или False в зависимости от того, находится эта точка внутри сферы."
      ],
      "metadata": {
        "id": "Q5Ow51wfASZH"
      }
    },
    {
      "cell_type": "code",
      "source": [
        "# Тесты\n",
        "\n",
        "s0 = Sphere(0.5) # test sphere creation with radius and default center\n",
        "print(s0.get_center()) # (0.0, 0.0, 0.0)\n",
        "print(s0.get_volume()) # 0.523598775598\n",
        "print(s0.is_point_inside(0 , -1.5, 0)) # False\n",
        "s0.set_radius(1.6)\n",
        "print(s0.is_point_inside(0, -1.5, 0)) # True\n",
        "print(s0.get_radius()) # 1.6"
      ],
      "metadata": {
        "id": "xYx3bR2Lbv42",
        "colab": {
          "base_uri": "https://localhost:8080/"
        },
        "outputId": "0d121803-7d0f-4a5e-c5db-e36f128a481f"
      },
      "execution_count": 2,
      "outputs": [
        {
          "output_type": "stream",
          "name": "stdout",
          "text": [
            "(0.0, 0.0, 0.0)\n",
            "0.5235987755982988\n",
            "False\n",
            "True\n",
            "1.6\n"
          ]
        }
      ]
    },
    {
      "cell_type": "code",
      "source": [
        "import math\n",
        "\n",
        "class Sphere:\n",
        "    def __init__(self, radius=1.0, x=0.0, y=0.0, z=0.0):\n",
        "        self.radius = radius\n",
        "        self.center = (x, y, z)\n",
        "\n",
        "    def get_volume(self):\n",
        "        \"\"\"Вычисляет объем шара.\"\"\"\n",
        "        return (4.0 / 3.0) * math.pi * (self.radius ** 3)\n",
        "\n",
        "    def get_square(self):\n",
        "        \"\"\"Вычисляет площадь поверхности сферы.\"\"\"\n",
        "        return 4.0 * math.pi * (self.radius ** 2)\n",
        "\n",
        "    def get_radius(self):\n",
        "        \"\"\"Возвращает радиус сферы.\"\"\"\n",
        "        return self.radius\n",
        "\n",
        "    def get_center(self):\n",
        "        \"\"\"Возвращает координаты центра сферы в виде кортежа.\"\"\"\n",
        "        return self.center\n",
        "\n",
        "    def set_radius(self, r):\n",
        "        \"\"\"Устанавливает новый радиус сферы.\"\"\"\n",
        "        self.radius = r\n",
        "\n",
        "    def set_center(self, x, y, z):\n",
        "        \"\"\"Устанавливает новые координаты центра сферы.\"\"\"\n",
        "        self.center = (x, y, z)\n",
        "\n",
        "    def is_point_inside(self, x, y, z):\n",
        "        \"\"\"Проверяет, находится ли точка внутри сферы.\"\"\"\n",
        "        dx = x - self.center[0]\n",
        "        dy = y - self.center[1]\n",
        "        dz = z - self.center[2]\n",
        "        distance_squared = dx**2 + dy**2 + dz**2\n",
        "        return distance_squared <= self.radius**2"
      ],
      "metadata": {
        "id": "d-vd-AYRdBId"
      },
      "execution_count": 1,
      "outputs": []
    },
    {
      "cell_type": "markdown",
      "source": [
        "## **Задание №2. Создайте класс SuperStr, который наследует стандартный класс str и содержит 2 новых метода:**"
      ],
      "metadata": {
        "id": "UuJ9K_zAcaY_"
      }
    },
    {
      "cell_type": "markdown",
      "source": [
        "1. Метод is_repeatance (s), который принимает 1 аргумент s и возвращает True или False в зависимости от того, может ли текущая строку быть получена целым количеством повторов строки s. Вернуть False, если s не является строкой. Считать, что пустая строка не содержит повторов.\n",
        "\n",
        "2. Метод is_palindrom (), который возвращает True или False в зависимости от того, является ли строка [палиндромом](https://ru.wikipedia.org/wiki/Палиндром). Регистрами символов пренебрегать. Пустую строку считать палиндромом."
      ],
      "metadata": {
        "id": "GX99X81VchPW"
      }
    },
    {
      "cell_type": "code",
      "source": [
        "class SuperStr(str):\n",
        "    def is_repeatance(self, s):\n",
        "        \"\"\"\n",
        "        Проверяет, может ли текущая строка быть получена целым количеством повторов строки s.\n",
        "        Возвращает False, если s не является строкой или текущая строка пустая.\n",
        "        \"\"\"\n",
        "        if not isinstance(s, str):\n",
        "            return False\n",
        "        if not self or not s:\n",
        "            return False\n",
        "        if len(self) % len(s) != 0:\n",
        "            return False\n",
        "        return self == s * (len(self) // len(s))\n",
        "\n",
        "    def is_palindrom(self):\n",
        "        \"\"\"\n",
        "        Проверяет, является ли строка палиндромом, игнорируя регистр.\n",
        "        Пустую строку считает палиндромом.\n",
        "        \"\"\"\n",
        "        return self.lower() == self.lower()[::-1]"
      ],
      "metadata": {
        "id": "LtIAKDWFdEcr"
      },
      "execution_count": 3,
      "outputs": []
    },
    {
      "cell_type": "code",
      "source": [
        "# Тесты\n",
        "\n",
        "s = SuperStr(\"123123123123\")\n",
        "print(s.is_repeatance(\"123\")) # True\n",
        "print(s.is_repeatance(\"123123\")) # True\n",
        "print(s.is_repeatance(\"123123123123\")) # True\n",
        "print(s.is_repeatance(\"12312\")) # False\n",
        "print(s.is_repeatance(123)) # False\n",
        "print(s.is_palindrom()) # False\n",
        "print(s) # 123123123123 (строка)\n",
        "print(int(s)) # 123123123123 (целое число)\n",
        "print(s + \"qwe\") # 123123123123qwe\n",
        "p = SuperStr(\"123_321\")\n",
        "print(p.is_palindrom()) # True"
      ],
      "metadata": {
        "id": "oRO3alwicoNp",
        "colab": {
          "base_uri": "https://localhost:8080/"
        },
        "outputId": "37f90099-344e-44a4-b076-ec025b6bce26"
      },
      "execution_count": 5,
      "outputs": [
        {
          "output_type": "stream",
          "name": "stdout",
          "text": [
            "True\n",
            "True\n",
            "True\n",
            "False\n",
            "False\n",
            "False\n",
            "123123123123\n",
            "123123123123\n",
            "123123123123qwe\n",
            "True\n"
          ]
        }
      ]
    },
    {
      "cell_type": "markdown",
      "source": [
        "## **Задание №3. В коде ниже представлен класс преподавателей и класс студентов (вы можете взять этот код за основу или написать свой).**"
      ],
      "metadata": {
        "id": "m9EGwLY9jZbw"
      }
    },
    {
      "cell_type": "code",
      "source": [
        "class Student:\n",
        "    def __init__(self, name, surname, gender):\n",
        "        self.name = name\n",
        "        self.surname = surname\n",
        "        self.gender = gender\n",
        "        self.finished_courses = []\n",
        "        self.courses_in_progress = []\n",
        "        self.grades = {}\n",
        "\n",
        "    def add_courses(self, course_name):\n",
        "        self.finished_courses.append(course_name)\n",
        "\n",
        "\n",
        "class Mentor:\n",
        "    def __init__(self, name, surname):\n",
        "        self.name = name\n",
        "        self.surname = surname\n",
        "        self.courses_attached = []\n",
        "\n",
        "    def rate_hw(self, student, course, grade):\n",
        "        student.grades[course] = [grade]"
      ],
      "metadata": {
        "id": "PlqK9m7KrT6e"
      },
      "execution_count": 6,
      "outputs": []
    },
    {
      "cell_type": "code",
      "source": [
        "best_student = Student('Ruoy', 'Eman', 'your_gender')\n",
        "cool_mentor = Mentor('Some', 'Buddy')\n",
        "cool_mentor.rate_hw(best_student, 'Python', 10)\n",
        "\n",
        "print(\"Имя студента: \", best_student.name)\n",
        "print(\"Имя преподавателя: \", cool_mentor.name)\n",
        "print(\"Оценки студента по курсам: \", best_student.grades)"
      ],
      "metadata": {
        "colab": {
          "base_uri": "https://localhost:8080/"
        },
        "id": "oNc1-dVaw3ee",
        "outputId": "95ab6278-4cea-4f61-c81c-dbfa76313916"
      },
      "execution_count": 7,
      "outputs": [
        {
          "output_type": "stream",
          "name": "stdout",
          "text": [
            "Имя студента:  Ruoy\n",
            "Имя преподавателя:  Some\n",
            "Оценки студента по курсам:  {'Python': [10]}\n"
          ]
        }
      ]
    },
    {
      "cell_type": "markdown",
      "source": [
        "### **3.1. Наследование**"
      ],
      "metadata": {
        "id": "08FkYxULrxE-"
      }
    },
    {
      "cell_type": "markdown",
      "source": [
        "* Класс Mentor должен стать родительским классом для преподавателей. От него нужно реализовать наследование классов Lecturer (лекторы) и Reviewer (эксперты, проверяющие домашние задания).\n",
        "\n",
        "> Имя, фамилю и список закрепленных курсов логично реализовать на уровне родительского класса."
      ],
      "metadata": {
        "id": "YNjsCv5ItOii"
      }
    },
    {
      "cell_type": "code",
      "source": [
        "class Lecturer(Mentor):\n",
        "    def __init__(self, name, surname):\n",
        "        super().__init__(name, surname)\n",
        "        self.student_grades = {}  # Оценки студентов за лекции\n",
        "\n",
        "    def rate_student(self, student, course, grade):\n",
        "        \"\"\"Выставление оценки студенту за лекции\"\"\"\n",
        "        if isinstance(student, Student) and course in self.courses_attached:\n",
        "            if course in student.grades:\n",
        "                student.grades[course].append(grade)\n",
        "            else:\n",
        "                student.grades[course] = [grade]\n",
        "\n",
        "\n",
        "class Reviewer(Mentor):\n",
        "    def rate_hw(self, student, course, grade):\n",
        "        \"\"\"Выставление оценки за домашнее задание\"\"\"\n",
        "        if isinstance(student, Student) and course in self.courses_attached:\n",
        "            if course in student.grades:\n",
        "                student.grades[course].append(grade)\n",
        "            else:\n",
        "                student.grades[course] = [grade]"
      ],
      "metadata": {
        "id": "1quZPRZKtIoc"
      },
      "execution_count": 8,
      "outputs": []
    },
    {
      "cell_type": "code",
      "source": [
        "best_student = Student('Ruoy', 'Eman', 'your_gender')\n",
        "cool_lecturer = Lecturer('Lecturer', 'Smith')\n",
        "cool_reviewer = Reviewer('Reviewer', 'Brown')\n",
        "\n",
        "# Назначение курсов\n",
        "cool_lecturer.courses_attached = ['Python']\n",
        "cool_reviewer.courses_attached = ['Python']\n",
        "\n",
        "# Выставление оценок\n",
        "cool_lecturer.rate_student(best_student, 'Python', 9)\n",
        "cool_reviewer.rate_hw(best_student, 'Python', 10)\n",
        "\n",
        "print(\"Имя студента:\", best_student.name)\n",
        "print(\"Имя лектора:\", cool_lecturer.name)\n",
        "print(\"Оценки студента по курсам:\", best_student.grades)"
      ],
      "metadata": {
        "colab": {
          "base_uri": "https://localhost:8080/"
        },
        "id": "cgXdqiuvp5-H",
        "outputId": "39e0e244-60bb-4be2-b63d-831d40775750"
      },
      "execution_count": 9,
      "outputs": [
        {
          "output_type": "stream",
          "name": "stdout",
          "text": [
            "Имя студента: Ruoy\n",
            "Имя лектора: Lecturer\n",
            "Оценки студента по курсам: {'Python': [9, 10]}\n"
          ]
        }
      ]
    },
    {
      "cell_type": "markdown",
      "source": [
        "### **3.2. Атрибуты и взаимодействие классов**"
      ],
      "metadata": {
        "id": "oL8kB-uUtH5K"
      }
    },
    {
      "cell_type": "markdown",
      "source": [
        "* Реализуйте возможность проставления оценок студентам только Reviewer-ам (реализуйте такой метод).\n",
        "\n",
        "* Реализуйте метод выставления оценок лекторам у класса Student (оценки по 10-балльной шкале, хранятся в атрибуте-словаре у Lecturer, в котором ключи – названия курсов, а значения – списки оценок). Лектор при этом должен быть закреплен за тем курсом, на который записан студент (реализовать проверку)."
      ],
      "metadata": {
        "id": "ddcuJFCksWsY"
      }
    },
    {
      "cell_type": "code",
      "source": [
        "class Student:\n",
        "    def __init__(self, name, surname, gender):\n",
        "        self.name = name\n",
        "        self.surname = surname\n",
        "        self.gender = gender\n",
        "        self.finished_courses = []\n",
        "        self.courses_in_progress = []\n",
        "        self.grades = {}\n",
        "\n",
        "    def add_courses(self, course_name):\n",
        "        self.finished_courses.append(course_name)\n",
        "\n",
        "    def rate_lecturer(self, lecturer, course, grade):\n",
        "        \"\"\"\n",
        "        Выставление оценки лектору за курс\n",
        "        \"\"\"\n",
        "        if not isinstance(lecturer, Lecturer):\n",
        "            return \"Ошибка: можно оценивать только лекторов\"\n",
        "\n",
        "        if course not in self.courses_in_progress:\n",
        "            return \"Ошибка: вы не проходите этот курс\"\n",
        "\n",
        "        if course not in lecturer.courses_attached:\n",
        "            return \"Ошибка: лектор не закреплён за этим курсом\"\n",
        "\n",
        "        if not (0 <= grade <= 10):\n",
        "            return \"Ошибка: оценка должна быть в диапазоне от 0 до 10\"\n",
        "\n",
        "        if course in lecturer.ratings:\n",
        "            lecturer.ratings[course].append(grade)\n",
        "        else:\n",
        "            lecturer.ratings[course] = [grade]\n",
        "        return f\"Оценка {grade} выставлена лектору {lecturer.name} {lecturer.surname} за курс {course}\"\n",
        "\n",
        "\n",
        "class Mentor:\n",
        "    def __init__(self, name, surname):\n",
        "        self.name = name\n",
        "        self.surname = surname\n",
        "        self.courses_attached = []\n",
        "\n",
        "\n",
        "class Lecturer(Mentor):\n",
        "    def __init__(self, name, surname):\n",
        "        super().__init__(name, surname)\n",
        "        self.ratings = {}  # Оценки от студентов\n",
        "\n",
        "\n",
        "class Reviewer(Mentor):\n",
        "    def rate_hw(self, student, course, grade):\n",
        "        \"\"\"\n",
        "        Выставление оценки за домашнее задание\n",
        "        \"\"\"\n",
        "        if not isinstance(student, Student) or course not in self.courses_attached:\n",
        "            return \"Ошибка: нельзя выставить оценку\"\n",
        "\n",
        "        if course in student.grades:\n",
        "            student.grades[course].append(grade)\n",
        "        else:\n",
        "            student.grades[course] = [grade]\n",
        "        return f\"Оценка {grade} выставлена студенту {student.name} {student.surname} за курс {course}\""
      ],
      "metadata": {
        "id": "U30yyvuirv6H"
      },
      "execution_count": 10,
      "outputs": []
    },
    {
      "cell_type": "code",
      "source": [
        "# Пример использования\n",
        "best_student = Student('Ruoy', 'Eman', 'your_gender')\n",
        "best_student.courses_in_progress = ['Python']\n",
        "\n",
        "cool_lecturer = Lecturer('Lecturer', 'Smith')\n",
        "cool_lecturer.courses_attached = ['Python']\n",
        "\n",
        "cool_reviewer = Reviewer('Reviewer', 'Brown')\n",
        "cool_reviewer.courses_attached = ['Python']\n",
        "\n",
        "# Выставление оценок\n",
        "print(cool_reviewer.rate_hw(best_student, 'Python', 9))  # Работает\n",
        "print(best_student.rate_lecturer(cool_lecturer, 'Python', 10))  # Работает\n",
        "print(best_student.rate_lecturer(cool_lecturer, 'Java', 8))  # Ошибка: вы не проходите этот курс\n",
        "print(best_student.rate_lecturer(Lecturer('Other', 'Teacher'), 'Python', 7))  # Ошибка: лектор не закреплён\n",
        "print(best_student.rate_lecturer(cool_lecturer, 'Python', 11))  # Ошибка: оценка вне диапазона\n",
        "\n",
        "print(\"\\nОценки студента:\", best_student.grades)\n",
        "print(\"Оценки лектора:\", cool_lecturer.ratings)\n"
      ],
      "metadata": {
        "colab": {
          "base_uri": "https://localhost:8080/"
        },
        "id": "KoTB7eArqalz",
        "outputId": "eb23b740-2c5d-4989-b751-364856ecfd82"
      },
      "execution_count": 11,
      "outputs": [
        {
          "output_type": "stream",
          "name": "stdout",
          "text": [
            "Оценка 9 выставлена студенту Ruoy Eman за курс Python\n",
            "Оценка 10 выставлена лектору Lecturer Smith за курс Python\n",
            "Ошибка: вы не проходите этот курс\n",
            "Ошибка: лектор не закреплён за этим курсом\n",
            "Ошибка: оценка должна быть в диапазоне от 0 до 10\n",
            "\n",
            "Оценки студента: {'Python': [9]}\n",
            "Оценки лектора: {'Python': [10]}\n"
          ]
        }
      ]
    },
    {
      "cell_type": "markdown",
      "source": [
        "### **3.3. Полиморфизм и магические методы**"
      ],
      "metadata": {
        "id": "i6PrwEBSu39u"
      }
    },
    {
      "cell_type": "markdown",
      "source": [
        "Перегрузите магический метод \\_\\_str__ у всех классов.\n",
        "У проверяющих он должен выводить информацию в следующем виде:\n",
        "\n",
        "\n",
        "\n",
        "```\n",
        "print(some_reviewer)\n",
        "Имя: Some\n",
        "Фамилия: Buddy\n",
        "```\n",
        "\n",
        "У лекторов:\n",
        "\n",
        "\n",
        "\n",
        "```\n",
        "print(some_lecturer)\n",
        "Имя: Some\n",
        "Фамилия: Buddy\n",
        "Средняя оценка за лекции: 9.9\n",
        "```\n",
        "\n",
        "А у студентов так:\n",
        "\n",
        "\n",
        "\n",
        "```\n",
        "print(some_student)\n",
        "Имя: Ruoy\n",
        "Фамилия: Eman\n",
        "Средняя оценка за домашние задания: 9.9\n",
        "Курсы в процессе изучения: Python, Git\n",
        "Завершенные курсы: Введение в программирование\n",
        "```\n",
        "\n",
        "\n",
        "\n"
      ],
      "metadata": {
        "id": "GvmtjlnmvF8b"
      }
    },
    {
      "cell_type": "code",
      "source": [
        "class Student:\n",
        "    def __init__(self, name, surname, gender):\n",
        "        self.name = name\n",
        "        self.surname = surname\n",
        "        self.gender = gender\n",
        "        self.finished_courses = []\n",
        "        self.courses_in_progress = []\n",
        "        self.grades = {}\n",
        "\n",
        "    def add_courses(self, course_name):\n",
        "        self.finished_courses.append(course_name)\n",
        "\n",
        "    def rate_lecturer(self, lecturer, course, grade):\n",
        "        if not isinstance(lecturer, Lecturer):\n",
        "            return \"Ошибка: можно оценивать только лекторов\"\n",
        "\n",
        "        if course not in self.courses_in_progress:\n",
        "            return \"Ошибка: вы не проходите этот курс\"\n",
        "\n",
        "        if course not in lecturer.courses_attached:\n",
        "            return \"Ошибка: лектор не закреплён за этим курсом\"\n",
        "\n",
        "        if not (0 <= grade <= 10):\n",
        "            return \"Ошибка: оценка должна быть в диапазоне от 0 до 10\"\n",
        "\n",
        "        if course in lecturer.ratings:\n",
        "            lecturer.ratings[course].append(grade)\n",
        "        else:\n",
        "            lecturer.ratings[course] = [grade]\n",
        "        return f\"Оценка {grade} выставлена лектору {lecturer.name} {lecturer.surname} за курс {course}\"\n",
        "\n",
        "    def __str__(self):\n",
        "        avg_grade = self._calculate_avg_grade()\n",
        "        courses_progress = \", \".join(self.courses_in_progress) or \"нет\"\n",
        "        finished_courses = \", \".join(self.finished_courses) or \"нет\"\n",
        "\n",
        "        return (\n",
        "            f\"Имя: {self.name}\\n\"\n",
        "            f\"Фамилия: {self.surname}\\n\"\n",
        "            f\"Средняя оценка за домашние задания: {avg_grade:.1f}\\n\"\n",
        "            f\"Курсы в процессе изучения: {courses_progress}\\n\"\n",
        "            f\"Завершенные курсы: {finished_courses}\"\n",
        "        )\n",
        "\n",
        "    def _calculate_avg_grade(self):\n",
        "        all_grades = [grade for grades in self.grades.values() for grade in grades]\n",
        "        return sum(all_grades) / len(all_grades) if all_grades else 0\n",
        "\n",
        "\n",
        "class Mentor:\n",
        "    def __init__(self, name, surname):\n",
        "        self.name = name\n",
        "        self.surname = surname\n",
        "        self.courses_attached = []\n",
        "\n",
        "\n",
        "class Lecturer(Mentor):\n",
        "    def __init__(self, name, surname):\n",
        "        super().__init__(name, surname)\n",
        "        self.ratings = {}\n",
        "\n",
        "    def __str__(self):\n",
        "        avg_rating = self._calculate_avg_rating()\n",
        "\n",
        "        return (\n",
        "            f\"Имя: {self.name}\\n\"\n",
        "            f\"Фамилия: {self.surname}\\n\"\n",
        "            f\"Средняя оценка за лекции: {avg_rating:.1f}\"\n",
        "        )\n",
        "\n",
        "    def _calculate_avg_rating(self):\n",
        "        all_ratings = [rating for ratings in self.ratings.values() for rating in ratings]\n",
        "        return sum(all_ratings) / len(all_ratings) if all_ratings else 0\n",
        "\n",
        "\n",
        "class Reviewer(Mentor):\n",
        "    def rate_hw(self, student, course, grade):\n",
        "        if not isinstance(student, Student) or course not in self.courses_attached:\n",
        "            return \"Ошибка: нельзя выставить оценку\"\n",
        "\n",
        "        if course in student.grades:\n",
        "            student.grades[course].append(grade)\n",
        "        else:\n",
        "            student.grades[course] = [grade]\n",
        "        return f\"Оценка {grade} выставлена студенту {student.name} {student.surname} за курс {course}\"\n",
        "\n",
        "    def __str__(self):\n",
        "        return (\n",
        "            f\"Имя: {self.name}\\n\"\n",
        "            f\"Фамилия: {self.surname}\"\n",
        "        )\n",
        "\n",
        "\n",
        "# Пример использования\n",
        "best_student = Student('Ruoy', 'Eman', 'your_gender')\n",
        "best_student.courses_in_progress = ['Python', 'Git']\n",
        "best_student.finished_courses = ['Введение в программирование']\n",
        "best_student.grades = {\n",
        "    'Python': [9, 8, 10],\n",
        "    'Git': [7, 9]\n",
        "}\n",
        "\n",
        "cool_lecturer = Lecturer('Some', 'Buddy')\n",
        "cool_lecturer.courses_attached = ['Python']\n",
        "cool_lecturer.ratings = {'Python': [9, 9, 10]}\n",
        "\n",
        "cool_reviewer = Reviewer('Some', 'Buddy')\n",
        "\n",
        "print(\"Студент:\")\n",
        "print(best_student)\n",
        "print(\"\\nЛектор:\")\n",
        "print(cool_lecturer)\n",
        "print(\"\\nПроверяющий:\")\n",
        "print(cool_reviewer)"
      ],
      "metadata": {
        "id": "gCJAL_EmwU0b",
        "colab": {
          "base_uri": "https://localhost:8080/"
        },
        "outputId": "46a742ad-140e-4bf2-f757-fa27038ef88c"
      },
      "execution_count": 12,
      "outputs": [
        {
          "output_type": "stream",
          "name": "stdout",
          "text": [
            "Студент:\n",
            "Имя: Ruoy\n",
            "Фамилия: Eman\n",
            "Средняя оценка за домашние задания: 8.6\n",
            "Курсы в процессе изучения: Python, Git\n",
            "Завершенные курсы: Введение в программирование\n",
            "\n",
            "Лектор:\n",
            "Имя: Some\n",
            "Фамилия: Buddy\n",
            "Средняя оценка за лекции: 9.3\n",
            "\n",
            "Проверяющий:\n",
            "Имя: Some\n",
            "Фамилия: Buddy\n"
          ]
        }
      ]
    },
    {
      "cell_type": "markdown",
      "source": [
        "**Реализуйте перегрузку других магических методов на Ваш выбор (не менее трёх), руководствуясь по смыслу контекстом представленных классов (студенты, преподаватели, оценки и т.д.)**"
      ],
      "metadata": {
        "id": "1DNE4TE3vfYI"
      }
    },
    {
      "cell_type": "code",
      "source": [
        "class Student:\n",
        "    def __init__(self, name, surname, gender):\n",
        "        self.name = name\n",
        "        self.surname = surname\n",
        "        self.gender = gender\n",
        "        self.finished_courses = []\n",
        "        self.courses_in_progress = []\n",
        "        self.grades = {}\n",
        "\n",
        "    # ... остальные методы ...\n",
        "\n",
        "    def __str__(self):\n",
        "        avg_grade = self._calculate_avg_grade()\n",
        "        courses_progress = \", \".join(self.courses_in_progress) or \"нет\"\n",
        "        finished_courses = \", \".join(self.finished_courses) or \"нет\"\n",
        "\n",
        "        return (\n",
        "            f\"Имя: {self.name}\\n\"\n",
        "            f\"Фамилия: {self.surname}\\n\"\n",
        "            f\"Средняя оценка за домашние задания: {avg_grade:.1f}\\n\"\n",
        "            f\"Курсы в процессе изучения: {courses_progress}\\n\"\n",
        "            f\"Завершенные курсы: {finished_courses}\"\n",
        "        )\n",
        "\n",
        "    def _calculate_avg_grade(self):\n",
        "        all_grades = [grade for grades in self.grades.values() for grade in grades]\n",
        "        return sum(all_grades) / len(all_grades) if all_grades else 0\n",
        "\n",
        "    def __lt__(self, other):\n",
        "        \"\"\"Сравнение студентов по средней оценке\"\"\"\n",
        "        if not isinstance(other, Student):\n",
        "            return NotImplemented\n",
        "        return self._calculate_avg_grade() < other._calculate_avg_grade()\n",
        "\n",
        "    def __eq__(self, other):\n",
        "        \"\"\"Проверка равенства средних оценок\"\"\"\n",
        "        if not isinstance(other, Student):\n",
        "            return NotImplemented\n",
        "        return abs(self._calculate_avg_grade() - other._calculate_avg_grade()) < 1e-9\n",
        "\n",
        "    def __len__(self):\n",
        "        \"\"\"Количество курсов в процессе изучения\"\"\"\n",
        "        return len(self.courses_in_progress)\n",
        "\n",
        "\n",
        "class Lecturer(Mentor):\n",
        "    def __init__(self, name, surname):\n",
        "        super().__init__(name, surname)\n",
        "        self.ratings = {}\n",
        "\n",
        "    def __str__(self):\n",
        "        avg_rating = self._calculate_avg_rating()\n",
        "\n",
        "        return (\n",
        "            f\"Имя: {self.name}\\n\"\n",
        "            f\"Фамилия: {self.surname}\\n\"\n",
        "            f\"Средняя оценка за лекции: {avg_rating:.1f}\"\n",
        "        )\n",
        "\n",
        "    def _calculate_avg_rating(self):\n",
        "        all_ratings = [rating for ratings in self.ratings.values() for rating in ratings]\n",
        "        return sum(all_ratings) / len(all_ratings) if all_ratings else 0\n",
        "\n",
        "    def __lt__(self, other):\n",
        "        \"\"\"Сравнение лекторов по средней оценке\"\"\"\n",
        "        if not isinstance(other, Lecturer):\n",
        "            return NotImplemented\n",
        "        return self._calculate_avg_rating() < other._calculate_avg_rating()\n",
        "\n",
        "    def __eq__(self, other):\n",
        "        \"\"\"Проверка равенства средних оценок\"\"\"\n",
        "        if not isinstance(other, Lecturer):\n",
        "            return NotImplemented\n",
        "        return abs(self._calculate_avg_rating() - other._calculate_avg_rating()) < 1e-9\n",
        "\n",
        "\n",
        "class Mentor:\n",
        "    def __init__(self, name, surname):\n",
        "        self.name = name\n",
        "        self.surname = surname\n",
        "        self.courses_attached = []\n",
        "\n",
        "    def __contains__(self, course):\n",
        "        \"\"\"Проверка, закреплён ли курс за преподавателем\"\"\"\n",
        "        return course in self.courses_attached\n",
        "\n",
        "\n",
        "class Reviewer(Mentor):\n",
        "    def rate_hw(self, student, course, grade):\n",
        "        if not isinstance(student, Student) or course not in self.courses_attached:\n",
        "            return \"Ошибка: нельзя выставить оценку\"\n",
        "\n",
        "        if course in student.grades:\n",
        "            student.grades[course].append(grade)\n",
        "        else:\n",
        "            student.grades[course] = [grade]\n",
        "        return f\"Оценка {grade} выставлена студенту {student.name} {student.surname} за курс {course}\"\n",
        "\n",
        "    def __str__(self):\n",
        "        return (\n",
        "            f\"Имя: {self.name}\\n\"\n",
        "            f\"Фамилия: {self.surname}\"\n",
        "        )\n",
        "\n",
        "\n",
        "# Примеры использования\n",
        "student1 = Student('Ruoy', 'Eman', 'your_gender')\n",
        "student1.courses_in_progress = ['Python', 'Git']\n",
        "student1.grades = {'Python': [9, 8, 10], 'Git': [7, 9]}\n",
        "\n",
        "student2 = Student('John', 'Doe', 'male')\n",
        "student2.courses_in_progress = ['Python']\n",
        "student2.grades = {'Python': [10, 10, 10]}\n",
        "\n",
        "lecturer1 = Lecturer('Some', 'Buddy')\n",
        "lecturer1.courses_attached = ['Python']\n",
        "lecturer1.ratings = {'Python': [9, 9, 10]}\n",
        "\n",
        "lecturer2 = Lecturer('Another', 'Teacher')\n",
        "lecturer2.courses_attached = ['Python']\n",
        "lecturer2.ratings = {'Python': [8, 8, 8]}\n",
        "\n",
        "reviewer = Reviewer('Anna', 'Smith')\n",
        "reviewer.courses_attached = ['Python']\n",
        "\n",
        "# Сравнение студентов\n",
        "print(\"Студент 1 < Студент 2:\", student1 < student2)  # True\n",
        "print(\"Студент 1 == Студент 2:\", student1 == student2)  # False\n",
        "\n",
        "# Сравнение лекторов\n",
        "print(\"Лектор 1 > Лектор 2:\", lecturer1 > lecturer2)  # True\n",
        "print(\"Лектор 1 == Лектор 2:\", lecturer1 == lecturer2)  # False\n",
        "\n",
        "# Проверка количества курсов\n",
        "print(\"Количество курсов у студента 1:\", len(student1))  # 2\n",
        "\n",
        "# Проверка закрепления курса у преподавателя\n",
        "print(\"Курс Python у проверяющего:\", 'Python' in reviewer)  # True\n",
        "print(\"Курс Java у проверяющего:\", 'Java' in reviewer)  # False\n"
      ],
      "metadata": {
        "id": "WNCf9PPMu4Gv",
        "colab": {
          "base_uri": "https://localhost:8080/"
        },
        "outputId": "f09c0e7b-0a19-4fb2-bab2-10c121ab5380"
      },
      "execution_count": 13,
      "outputs": [
        {
          "output_type": "stream",
          "name": "stdout",
          "text": [
            "Студент 1 < Студент 2: True\n",
            "Студент 1 == Студент 2: False\n",
            "Лектор 1 > Лектор 2: True\n",
            "Лектор 1 == Лектор 2: False\n",
            "Количество курсов у студента 1: 2\n",
            "Курс Python у проверяющего: True\n",
            "Курс Java у проверяющего: False\n"
          ]
        }
      ]
    },
    {
      "cell_type": "markdown",
      "source": [
        "### **3.4. Тестирование**\n",
        "\n",
        "Создайте по 2 экземпляра каждого класса, вызовите все созданные методы, а также реализуйте две функции:\n",
        "\n",
        "* для подсчета средней оценки за домашние задания по всем студентам в рамках конкретного курса (в качестве аргументов принимаем список студентов и название курса);\n",
        "* для подсчета средней оценки за лекции всех лекторов в рамках курса (в качестве аргумента принимаем список лекторов и название курса)."
      ],
      "metadata": {
        "id": "X8xvLNT6u4Nn"
      }
    },
    {
      "cell_type": "code",
      "source": [
        "class Student:\n",
        "    def __init__(self, name, surname, gender):\n",
        "        self.name = name\n",
        "        self.surname = surname\n",
        "        self.gender = gender\n",
        "        self.finished_courses = []\n",
        "        self.courses_in_progress = []\n",
        "        self.grades = {}\n",
        "\n",
        "    def add_courses(self, course_name):\n",
        "        self.finished_courses.append(course_name)\n",
        "\n",
        "    def rate_lecturer(self, lecturer, course, grade):\n",
        "        if not isinstance(lecturer, Lecturer):\n",
        "            return \"Ошибка: можно оценивать только лекторов\"\n",
        "\n",
        "        if course not in self.courses_in_progress:\n",
        "            return \"Ошибка: вы не проходите этот курс\"\n",
        "\n",
        "        if course not in lecturer.courses_attached:\n",
        "            return \"Ошибка: лектор не закреплён за этим курсом\"\n",
        "\n",
        "        if not (0 <= grade <= 10):\n",
        "            return \"Ошибка: оценка должна быть в диапазоне от 0 до 10\"\n",
        "\n",
        "        if course in lecturer.ratings:\n",
        "            lecturer.ratings[course].append(grade)\n",
        "        else:\n",
        "            lecturer.ratings[course] = [grade]\n",
        "        return f\"Оценка {grade} выставлена лектору {lecturer.name} {lecturer.surname} за курс {course}\"\n",
        "\n",
        "    def __str__(self):\n",
        "        avg_grade = self._calculate_avg_grade()\n",
        "        courses_progress = \", \".join(self.courses_in_progress) or \"нет\"\n",
        "        finished_courses = \", \".join(self.finished_courses) or \"нет\"\n",
        "\n",
        "        return (\n",
        "            f\"Имя: {self.name}\\n\"\n",
        "            f\"Фамилия: {self.surname}\\n\"\n",
        "            f\"Средняя оценка за домашние задания: {avg_grade:.1f}\\n\"\n",
        "            f\"Курсы в процессе изучения: {courses_progress}\\n\"\n",
        "            f\"Завершенные курсы: {finished_courses}\"\n",
        "        )\n",
        "\n",
        "    def _calculate_avg_grade(self):\n",
        "        all_grades = [grade for grades in self.grades.values() for grade in grades]\n",
        "        return sum(all_grades) / len(all_grades) if all_grades else 0\n",
        "\n",
        "    def __lt__(self, other):\n",
        "        if not isinstance(other, Student):\n",
        "            return NotImplemented\n",
        "        return self._calculate_avg_grade() < other._calculate_avg_grade()\n",
        "\n",
        "    def __eq__(self, other):\n",
        "        if not isinstance(other, Student):\n",
        "            return NotImplemented\n",
        "        return abs(self._calculate_avg_grade() - other._calculate_avg_grade()) < 1e-9\n",
        "\n",
        "    def __len__(self):\n",
        "        return len(self.courses_in_progress)\n",
        "\n",
        "\n",
        "class Mentor:\n",
        "    def __init__(self, name, surname):\n",
        "        self.name = name\n",
        "        self.surname = surname\n",
        "        self.courses_attached = []\n",
        "\n",
        "    def __contains__(self, course):\n",
        "        return course in self.courses_attached\n",
        "\n",
        "\n",
        "class Lecturer(Mentor):\n",
        "    def __init__(self, name, surname):\n",
        "        super().__init__(name, surname)\n",
        "        self.ratings = {}\n",
        "\n",
        "    def __str__(self):\n",
        "        avg_rating = self._calculate_avg_rating()\n",
        "\n",
        "        return (\n",
        "            f\"Имя: {self.name}\\n\"\n",
        "            f\"Фамилия: {self.surname}\\n\"\n",
        "            f\"Средняя оценка за лекции: {avg_rating:.1f}\"\n",
        "        )\n",
        "\n",
        "    def _calculate_avg_rating(self):\n",
        "        all_ratings = [rating for ratings in self.ratings.values() for rating in ratings]\n",
        "        return sum(all_ratings) / len(all_ratings) if all_ratings else 0\n",
        "\n",
        "    def __lt__(self, other):\n",
        "        if not isinstance(other, Lecturer):\n",
        "            return NotImplemented\n",
        "        return self._calculate_avg_rating() < other._calculate_avg_rating()\n",
        "\n",
        "    def __eq__(self, other):\n",
        "        if not isinstance(other, Lecturer):\n",
        "            return NotImplemented\n",
        "        return abs(self._calculate_avg_rating() - other._calculate_avg_rating()) < 1e-9\n",
        "\n",
        "\n",
        "class Reviewer(Mentor):\n",
        "    def rate_hw(self, student, course, grade):\n",
        "        if not isinstance(student, Student) or course not in self.courses_attached:\n",
        "            return \"Ошибка: нельзя выставить оценку\"\n",
        "\n",
        "        if course in student.grades:\n",
        "            student.grades[course].append(grade)\n",
        "        else:\n",
        "            student.grades[course] = [grade]\n",
        "        return f\"Оценка {grade} выставлена студенту {student.name} {student.surname} за курс {course}\"\n",
        "\n",
        "    def __str__(self):\n",
        "        return (\n",
        "            f\"Имя: {self.name}\\n\"\n",
        "            f\"Фамилия: {self.surname}\"\n",
        "        )\n",
        "\n",
        "\n",
        "# Создание экземпляров\n",
        "# Студенты\n",
        "student1 = Student('Ruoy', 'Eman', 'your_gender')\n",
        "student1.courses_in_progress = ['Python', 'Git']\n",
        "student1.grades = {'Python': [9, 8, 10], 'Git': [7, 9]}\n",
        "student1.add_courses('Введение в программирование')\n",
        "\n",
        "student2 = Student('John', 'Doe', 'male')\n",
        "student2.courses_in_progress = ['Python']\n",
        "student2.grades = {'Python': [10, 10, 10]}\n",
        "student2.add_courses('Основы алгоритмов')\n",
        "\n",
        "# Лекторы\n",
        "lecturer1 = Lecturer('Some', 'Buddy')\n",
        "lecturer1.courses_attached = ['Python']\n",
        "lecturer1.ratings = {'Python': [9, 9, 10]}\n",
        "\n",
        "lecturer2 = Lecturer('Another', 'Teacher')\n",
        "lecturer2.courses_attached = ['Python', 'Java']\n",
        "lecturer2.ratings = {'Python': [8, 8, 8], 'Java': [7, 7]}\n",
        "\n",
        "# Ревьюеры\n",
        "reviewer1 = Reviewer('Anna', 'Smith')\n",
        "reviewer1.courses_attached = ['Python']\n",
        "\n",
        "reviewer2 = Reviewer('Bob', 'Johnson')\n",
        "reviewer2.courses_attached = ['Java']\n",
        "\n",
        "\n",
        "# Вызов методов\n",
        "# Студенты\n",
        "print(\"Студент 1:\")\n",
        "print(student1)\n",
        "print(\"\\nСтудент 2:\")\n",
        "print(student2)\n",
        "\n",
        "print(\"\\nСравнение студентов:\")\n",
        "print(\"student1 < student2:\", student1 < student2)\n",
        "print(\"student1 == student2:\", student1 == student2)\n",
        "print(\"Количество курсов у student1:\", len(student1))\n",
        "\n",
        "# Лекторы\n",
        "print(\"\\nЛектор 1:\")\n",
        "print(lecturer1)\n",
        "print(\"\\nЛектор 2:\")\n",
        "print(lecturer2)\n",
        "\n",
        "print(\"\\nСравнение лекторов:\")\n",
        "print(\"lecturer1 > lecturer2:\", lecturer1 > lecturer2)\n",
        "print(\"lecturer1 == lecturer2:\", lecturer1 == lecturer2)\n",
        "\n",
        "# Ревьюеры\n",
        "print(\"\\nРевьюер 1:\")\n",
        "print(reviewer1)\n",
        "print(\"\\nРевьюер 2:\")\n",
        "print(reviewer2)\n",
        "\n",
        "print(\"\\nПроверка закрепления курса:\")\n",
        "print(\"'Python' в reviewer1:\", 'Python' in reviewer1)\n",
        "print(\"'Java' в reviewer2:\", 'Java' in reviewer2)\n",
        "\n",
        "# Функции подсчета средних оценок\n",
        "def calculate_avg_student_grade(students, course):\n",
        "    total = 0\n",
        "    count = 0\n",
        "\n",
        "    for student in students:\n",
        "        if course in student.grades:\n",
        "            total += sum(student.grades[course])\n",
        "            count += len(student.grades[course])\n",
        "\n",
        "    return total / count if count else 0\n",
        "\n",
        "def calculate_avg_lecturer_rating(lecturers, course):\n",
        "    total = 0\n",
        "    count = 0\n",
        "\n",
        "    for lecturer in lecturers:\n",
        "        if course in lecturer.ratings and course in lecturer.courses_attached:\n",
        "            total += sum(lecturer.ratings[course])\n",
        "            count += len(lecturer.ratings[course])\n",
        "\n",
        "    return total / count if count else 0\n",
        "\n",
        "\n",
        "# Примеры использования функций\n",
        "students = [student1, student2]\n",
        "lecturers = [lecturer1, lecturer2]\n",
        "\n",
        "print(\"\\nСредняя оценка студентов по Python:\",\n",
        "      calculate_avg_student_grade(students, 'Python'))\n",
        "\n",
        "print(\"Средняя оценка лекторов по Python:\",\n",
        "      calculate_avg_lecturer_rating(lecturers, 'Python'))\n"
      ],
      "metadata": {
        "id": "uh8n08fdu4V_",
        "colab": {
          "base_uri": "https://localhost:8080/"
        },
        "outputId": "4f925051-db28-4b47-e4ca-62fd466f20b9"
      },
      "execution_count": 14,
      "outputs": [
        {
          "output_type": "stream",
          "name": "stdout",
          "text": [
            "Студент 1:\n",
            "Имя: Ruoy\n",
            "Фамилия: Eman\n",
            "Средняя оценка за домашние задания: 8.6\n",
            "Курсы в процессе изучения: Python, Git\n",
            "Завершенные курсы: Введение в программирование\n",
            "\n",
            "Студент 2:\n",
            "Имя: John\n",
            "Фамилия: Doe\n",
            "Средняя оценка за домашние задания: 10.0\n",
            "Курсы в процессе изучения: Python\n",
            "Завершенные курсы: Основы алгоритмов\n",
            "\n",
            "Сравнение студентов:\n",
            "student1 < student2: True\n",
            "student1 == student2: False\n",
            "Количество курсов у student1: 2\n",
            "\n",
            "Лектор 1:\n",
            "Имя: Some\n",
            "Фамилия: Buddy\n",
            "Средняя оценка за лекции: 9.3\n",
            "\n",
            "Лектор 2:\n",
            "Имя: Another\n",
            "Фамилия: Teacher\n",
            "Средняя оценка за лекции: 7.6\n",
            "\n",
            "Сравнение лекторов:\n",
            "lecturer1 > lecturer2: True\n",
            "lecturer1 == lecturer2: False\n",
            "\n",
            "Ревьюер 1:\n",
            "Имя: Anna\n",
            "Фамилия: Smith\n",
            "\n",
            "Ревьюер 2:\n",
            "Имя: Bob\n",
            "Фамилия: Johnson\n",
            "\n",
            "Проверка закрепления курса:\n",
            "'Python' в reviewer1: True\n",
            "'Java' в reviewer2: True\n",
            "\n",
            "Средняя оценка студентов по Python: 9.5\n",
            "Средняя оценка лекторов по Python: 8.666666666666666\n"
          ]
        }
      ]
    },
    {
      "cell_type": "markdown",
      "source": [
        "## **Задание №4. Перегрузка операторов с помощью магических методов**\n"
      ],
      "metadata": {
        "id": "ehfo80anwJUM"
      }
    },
    {
      "cell_type": "markdown",
      "source": [
        "### **Цель задания:**\n",
        "\n"
      ],
      "metadata": {
        "id": "i_KsKg4awZOJ"
      }
    },
    {
      "cell_type": "markdown",
      "source": [
        "Разработать класс `Fraction` для работы с рациональными числами (дробями), реализовав перегрузку стандартных операторов через переопределение соответствующих магических методов. Ваша задача — обеспечить класс `Fraction` функциональностью, демонстрируемой в приведенном примере кода."
      ],
      "metadata": {
        "id": "JvIIB641watq"
      }
    },
    {
      "cell_type": "markdown",
      "source": [
        "### **Описание задания:**\n",
        "\n"
      ],
      "metadata": {
        "id": "BZ9kMLrYwcW_"
      }
    },
    {
      "cell_type": "markdown",
      "source": [
        "Создайте класс `Fraction`, который представляет собой обыкновенную дробь с числителем и знаменателем. Перегрузите основные арифметические операторы для выполнения операций над дробями, а также операторы сравнения. Обеспечьте возможность преобразования дроби в число с плавающей точкой и обратную операцию. Реализуйте обработку исключений при некорректных данных. Предоставьте понятное строковое и официальное представление дроби."
      ],
      "metadata": {
        "id": "6Qt56A-Bwe87"
      }
    },
    {
      "cell_type": "markdown",
      "source": [
        "**Требования к заданию:**\n"
      ],
      "metadata": {
        "id": "1lv3NnB_whqP"
      }
    },
    {
      "cell_type": "markdown",
      "source": [
        "\n",
        "1. **Класс `Fraction` должен:**\n",
        "\n",
        "   - Инициализироваться двумя целыми числами: числителем и знаменателем.\n",
        "   - Обрабатывать ситуацию когда знаменатель равен нулю, а именно выводить сообщение `\"Знаменатель не может быть нулем\"`.\n",
        "   - Упрощать дроби до несократимых при создании и после каждой арифметической операции.\n",
        "\n",
        "2. **Перегрузить следующие операторы путем переопределения магических методов:**\n",
        "\n",
        "   - **Сложение `+`** (`__add__`): сложение двух дробей, возвращает новую дробь.\n",
        "   - **Вычитание `-`** (`__sub__`): вычитание одной дроби из другой, возвращает новую дробь.\n",
        "   - **Умножение `*`** (`__mul__`): умножение двух дробей, возвращает новую дробь.\n",
        "   - **Деление `/`** (`__truediv__`): деление одной дроби на другую, возвращает новую дробь.\n",
        "   - **Равенство `==`** (`__eq__`): проверка равенства двух дробей.\n",
        "   - **Сравнения `>`, `<`, `>=`, `<=`**: сравнение дробей по их значению, реализовать методы `__lt__`, `__le__`, `__gt__`, `__ge__`.\n",
        "\n",
        "3. **Реализовать преобразование типов:**\n",
        "\n",
        "   - **Метод `__float__`**: преобразование дроби в число с плавающей точкой.\n",
        "\n",
        "4. **Дополнительные методы класса:**\n",
        "\n",
        "   - **`reciprocal()`**: возвращает новую дробь, обратную данной (числитель и знаменатель меняются местами).\n",
        "   - **Строковое представление** (`__str__`): возвращает строку вида `\"числитель/знаменатель\"`. Если знаменатель равен 1, возвращает только числитель в виде строки.\n",
        "   - **Официальное представление** (`__repr__`): возвращает строку вида `\"Fraction(числитель, знаменатель)\"`.\n",
        "\n",
        "5. **Обработка исключений:**\n",
        "\n",
        "   - При попытке создать дробь с нулевым знаменателем выводить в консоль сообщение `ValueError`.\n",
        "   - При попытке деления на нулевую дробь, выводить в консоль сообщение `ZeroDivisionError`.\n",
        "\n",
        "6. **Тестирование:**\n",
        "\n",
        "   - Написать код, демонстрирующий работу всех реализованных методов и операторов, используя примеры, приведенные ниже.\n",
        "   - Обеспечить корректную обработку исключений и вывод соответствующих сообщений.\n",
        "\n",
        "\n",
        "\n"
      ],
      "metadata": {
        "id": "4tJX8suPv0TY"
      }
    },
    {
      "cell_type": "code",
      "source": [
        "import math\n",
        "from decimal import Decimal, getcontext\n",
        "\n",
        "class Fraction:\n",
        "    def __init__(self, numerator, denominator=1):\n",
        "        if denominator == 0:\n",
        "            raise ValueError(\"Знаменатель не может быть нулем\")\n",
        "\n",
        "        # Перенос отрицательного знака в числитель\n",
        "        if denominator < 0:\n",
        "            numerator = -numerator\n",
        "            denominator = -denominator\n",
        "\n",
        "        self.numerator = numerator\n",
        "        self.denominator = denominator\n",
        "\n",
        "        self._simplify()\n",
        "\n",
        "    def _simplify(self):\n",
        "        \"\"\"Упрощает дробь до несократимого вида\"\"\"\n",
        "        gcd = math.gcd(abs(self.numerator), abs(self.denominator))\n",
        "        self.numerator //= gcd\n",
        "        self.denominator //= gcd\n",
        "\n",
        "    def __add__(self, other):\n",
        "        if isinstance(other, Fraction):\n",
        "            new_num = self.numerator * other.denominator + other.numerator * self.denominator\n",
        "            new_den = self.denominator * other.denominator\n",
        "            return Fraction(new_num, new_den)\n",
        "        elif isinstance(other, (int, float)):\n",
        "            return self + Fraction(other)\n",
        "        else:\n",
        "            return NotImplemented\n",
        "\n",
        "    def __sub__(self, other):\n",
        "        if isinstance(other, Fraction):\n",
        "            new_num = self.numerator * other.denominator - other.numerator * self.denominator\n",
        "            new_den = self.denominator * other.denominator\n",
        "            return Fraction(new_num, new_den)\n",
        "        elif isinstance(other, (int, float)):\n",
        "            return self - Fraction(other)\n",
        "        else:\n",
        "            return NotImplemented\n",
        "\n",
        "    def __mul__(self, other):\n",
        "        if isinstance(other, Fraction):\n",
        "            new_num = self.numerator * other.numerator\n",
        "            new_den = self.denominator * other.denominator\n",
        "            return Fraction(new_num, new_den)\n",
        "        elif isinstance(other, (int, float)):\n",
        "            return self * Fraction(other)\n",
        "        else:\n",
        "            return NotImplemented\n",
        "\n",
        "    def __truediv__(self, other):\n",
        "        if isinstance(other, Fraction):\n",
        "            if other.numerator == 0:\n",
        "                raise ZeroDivisionError(\"Деление на ноль невозможно\")\n",
        "            return self * other.reciprocal()\n",
        "        elif isinstance(other, (int, float)):\n",
        "            return self / Fraction(other)\n",
        "        else:\n",
        "            return NotImplemented\n",
        "\n",
        "    def __eq__(self, other):\n",
        "        if isinstance(other, Fraction):\n",
        "            return (self.numerator * other.denominator) == (other.numerator * self.denominator)\n",
        "        elif isinstance(other, (int, float)):\n",
        "            return float(self) == other\n",
        "        else:\n",
        "            return NotImplemented\n",
        "\n",
        "    def __lt__(self, other):\n",
        "        if isinstance(other, Fraction):\n",
        "            return (self.numerator * other.denominator) < (other.numerator * self.denominator)\n",
        "        elif isinstance(other, (int, float)):\n",
        "            return float(self) < other\n",
        "        else:\n",
        "            return NotImplemented\n",
        "\n",
        "    def __le__(self, other):\n",
        "        if isinstance(other, Fraction):\n",
        "            return (self.numerator * other.denominator) <= (other.numerator * self.denominator)\n",
        "        elif isinstance(other, (int, float)):\n",
        "            return float(self) <= other\n",
        "        else:\n",
        "            return NotImplemented\n",
        "\n",
        "    def __gt__(self, other):\n",
        "        if isinstance(other, Fraction):\n",
        "            return (self.numerator * other.denominator) > (other.numerator * self.denominator)\n",
        "        elif isinstance(other, (int, float)):\n",
        "            return float(self) > other\n",
        "        else:\n",
        "            return NotImplemented\n",
        "\n",
        "    def __ge__(self, other):\n",
        "        if isinstance(other, Fraction):\n",
        "            return (self.numerator * other.denominator) >= (other.numerator * self.denominator)\n",
        "        elif isinstance(other, (int, float)):\n",
        "            return float(self) >= other\n",
        "        else:\n",
        "            return NotImplemented\n",
        "\n",
        "    def __float__(self):\n",
        "        return self.numerator / self.denominator\n",
        "\n",
        "    def __str__(self):\n",
        "        if self.denominator == 1:\n",
        "            return str(self.numerator)\n",
        "        return f\"{self.numerator}/{self.denominator}\"\n",
        "\n",
        "    def __repr__(self):\n",
        "        return f\"Fraction({self.numerator}, {self.denominator})\"\n",
        "\n",
        "    def reciprocal(self):\n",
        "        if self.numerator == 0:\n",
        "            raise ZeroDivisionError(\"Нельзя получить обратную дробь от нуля\")\n",
        "        return Fraction(self.denominator, self.numerator)\n",
        "\n",
        "    @classmethod\n",
        "    def from_float(cls, value):\n",
        "        \"\"\"Преобразует число с плавающей точкой в дробь\"\"\"\n",
        "        if not isinstance(value, float):\n",
        "            raise TypeError(\"Аргумент должен быть числом с плавающей точкой\")\n",
        "\n",
        "        getcontext().prec = 20  # Устанавливаем точность\n",
        "        d = Decimal(str(value))\n",
        "        return cls(int(d * 10**20), 10**20)  # Примерное представление"
      ],
      "metadata": {
        "id": "58JlCtFkxpmU"
      },
      "execution_count": 17,
      "outputs": []
    },
    {
      "cell_type": "markdown",
      "source": [
        "**Тесты для класса `Fraction`:**\n"
      ],
      "metadata": {
        "id": "N5tZxFvIxdIy"
      }
    },
    {
      "cell_type": "code",
      "source": [
        "# Создание дробей\n",
        "f1 = Fraction(3, 4)\n",
        "f2 = Fraction(5, 6)\n",
        "\n",
        "# Сложение дробей\n",
        "f3 = f1 + f2\n",
        "print(f3)  # Ожидаемый вывод: 19/12\n",
        "\n",
        "# Вычитание дробей\n",
        "f4 = f1 - f2\n",
        "print(f4)  # Ожидаемый вывод: -1/12\n",
        "\n",
        "# Умножение дробей\n",
        "f5 = f1 * f2\n",
        "print(f5)  # Ожидаемый вывод: 5/8\n",
        "\n",
        "# Деление дробей\n",
        "f6 = f1 / f2\n",
        "print(f6)  # Ожидаемый вывод: 9/10\n",
        "\n",
        "# Проверка равенства\n",
        "print(f1 == Fraction(6, 8))   # Ожидаемый вывод: True\n",
        "\n",
        "# Сравнение дробей\n",
        "print(f1 > f2)    # Ожидаемый вывод: False\n",
        "print(f1 < f2)    # Ожидаемый вывод: True\n",
        "\n",
        "# Преобразование к float\n",
        "print(float(f1))  # Ожидаемый вывод: 0.75\n",
        "\n",
        "# Обратная дробь\n",
        "f7 = f1.reciprocal()\n",
        "print(f7)         # Ожидаемый вывод: 4/3\n",
        "\n",
        "# Создание дроби из float\n",
        "f8 = Fraction.from_float(0.75)\n",
        "print(f8)         # Ожидаемый вывод: 3/4\n",
        "\n",
        "# Проверка обработки исключений\n",
        "try:\n",
        "    f_invalid = Fraction(5, 0)\n",
        "except ValueError as e:\n",
        "    print(e)  # Ожидаемый вывод: Знаменатель не может быть нулем\n",
        "\n",
        "# Строковое и официальное представление\n",
        "print(str(f1))    # Ожидаемый вывод: 3/4\n",
        "print(repr(f1))   # Ожидаемый вывод: Fraction(3, 4)"
      ],
      "metadata": {
        "id": "U1UtgDM0xlqJ",
        "colab": {
          "base_uri": "https://localhost:8080/"
        },
        "outputId": "49a5ad71-12af-4822-e31a-3bd2aefe80ce"
      },
      "execution_count": 18,
      "outputs": [
        {
          "output_type": "stream",
          "name": "stdout",
          "text": [
            "19/12\n",
            "-1/12\n",
            "5/8\n",
            "9/10\n",
            "True\n",
            "False\n",
            "True\n",
            "0.75\n",
            "4/3\n",
            "3/4\n",
            "Знаменатель не может быть нулем\n",
            "3/4\n",
            "Fraction(3, 4)\n"
          ]
        }
      ]
    }
  ]
}