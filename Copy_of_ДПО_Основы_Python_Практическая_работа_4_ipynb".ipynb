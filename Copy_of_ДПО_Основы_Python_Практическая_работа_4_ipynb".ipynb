{
  "nbformat": 4,
  "nbformat_minor": 0,
  "metadata": {
    "colab": {
      "provenance": [],
      "include_colab_link": true
    },
    "kernelspec": {
      "name": "python3",
      "display_name": "Python 3"
    },
    "language_info": {
      "name": "python"
    }
  },
  "cells": [
    {
      "cell_type": "markdown",
      "metadata": {
        "id": "view-in-github",
        "colab_type": "text"
      },
      "source": [
        "<a href=\"https://colab.research.google.com/github/DinRazar/universite/blob/main/Copy_of_%D0%94%D0%9F%D0%9E_%D0%9E%D1%81%D0%BD%D0%BE%D0%B2%D1%8B_Python_%D0%9F%D1%80%D0%B0%D0%BA%D1%82%D0%B8%D1%87%D0%B5%D1%81%D0%BA%D0%B0%D1%8F_%D1%80%D0%B0%D0%B1%D0%BE%D1%82%D0%B0_4_ipynb%22.ipynb\" target=\"_parent\"><img src=\"https://colab.research.google.com/assets/colab-badge.svg\" alt=\"Open In Colab\"/></a>"
      ]
    },
    {
      "cell_type": "markdown",
      "source": [
        "# **Практическая работа №4. Введение в Python. ООП рефакторинг**\n",
        "\n",
        "---\n",
        "\n",
        "\n"
      ],
      "metadata": {
        "id": "QliphIp1pbse"
      }
    },
    {
      "cell_type": "markdown",
      "source": [
        "**Обучающийся:** *[Наумов Д.Д.]*  "
      ],
      "metadata": {
        "id": "tTK8mNGDqA8Z"
      }
    },
    {
      "cell_type": "markdown",
      "source": [
        "\n",
        "\n",
        "---"
      ],
      "metadata": {
        "id": "wTJjWD61p_dZ"
      }
    },
    {
      "cell_type": "markdown",
      "source": [
        "## **Цель работы:**\n"
      ],
      "metadata": {
        "id": "hus_oUIb6-uw"
      }
    },
    {
      "cell_type": "markdown",
      "source": [
        "\n",
        "Провести рефакторинг ранее созданного Python-пакета в предыдущей практической работе, преобразовав его функциональность в соответствии с принципами объектно-ориентированного программирования. Обновленный пакет должен включать классы и методы для преобразования координат между декартовой и сферической системами координат, а также для работы с файлами."
      ],
      "metadata": {
        "id": "Jr6dLMMD69Z3"
      }
    },
    {
      "cell_type": "markdown",
      "source": [
        "\n",
        "\n",
        "## **Задачи:**\n"
      ],
      "metadata": {
        "id": "DZ02tlQN6_tI"
      }
    },
    {
      "cell_type": "markdown",
      "source": [
        "\n",
        "1. Анализ существующего пакета и определение необходимых изменений для перехода на ООП-парадигму.\n",
        "\n",
        "2. Создание новой структуры пакета с использованием классов и модулей, соответствующих принципам ООП.\n",
        "\n",
        "3. Реализация классов и методов для преобразования координат между декартовой и сферической системами координат.\n",
        "\n",
        "4. Реализация классов и методов для работы с файлами, обеспечивая удобный интерфейс для чтения и записи данных.\n",
        "\n",
        "5. Создание файла `__main__.py` с консольным интерфейсом для взаимодействия с функциональностью пакета.\n",
        "\n",
        "6. Тестирование и проверка работоспособности обновленного пакета на примерах, подтверждение корректности реализации."
      ],
      "metadata": {
        "id": "DCh4tfl06v45"
      }
    },
    {
      "cell_type": "markdown",
      "source": [
        "\n",
        "\n",
        "## **Демонстрация результата:**\n",
        "\n"
      ],
      "metadata": {
        "id": "iIyfPBIGbPdQ"
      }
    },
    {
      "cell_type": "markdown",
      "source": [
        "Вставьте код каждого из ваших модулей в соответствующие ячейки ниже.\n",
        "\n",
        "**Строку, начинающуюся на %%writefile... стирать запрещено**"
      ],
      "metadata": {
        "id": "1ARiSwg3bKML"
      }
    },
    {
      "cell_type": "markdown",
      "source": [
        "### **Содержимое модуля \\_\\_init__.py:**"
      ],
      "metadata": {
        "id": "kcPKYl5abzNp"
      }
    },
    {
      "cell_type": "code",
      "source": [
        "!mkdir geo_transform"
      ],
      "metadata": {
        "id": "T5t41w-tbD5I"
      },
      "execution_count": 1,
      "outputs": []
    },
    {
      "cell_type": "code",
      "source": [
        "%%writefile geo_transform/__init__.py\n",
        "\n",
        "from .transformations import CoordinateTransformer\n",
        "from .utils import AngleConverter\n",
        "from .file_operations import FileManager\n",
        "\n",
        "__all__ = [\n",
        "    'CoordinateTransformer',\n",
        "    'AngleConverter',\n",
        "    'FileManager'\n",
        "]"
      ],
      "metadata": {
        "id": "p_UraYekagmv",
        "colab": {
          "base_uri": "https://localhost:8080/"
        },
        "outputId": "4ce933d1-918c-4fad-deff-6cc99ada0662"
      },
      "execution_count": 15,
      "outputs": [
        {
          "output_type": "stream",
          "name": "stdout",
          "text": [
            "Overwriting geo_transform/__init__.py\n"
          ]
        }
      ]
    },
    {
      "cell_type": "markdown",
      "source": [
        "### **Содержимое модуля transformations.py:**"
      ],
      "metadata": {
        "id": "GfgJWdI7cHoW"
      }
    },
    {
      "cell_type": "code",
      "source": [
        "%%writefile geo_transform/transformations.py\n",
        "\n",
        "import math\n",
        "from .utils import AngleConverter\n",
        "\n",
        "class CoordinateTransformer:\n",
        "    \"\"\"\n",
        "    Класс для преобразования координат между системами\n",
        "    \"\"\"\n",
        "\n",
        "    @staticmethod\n",
        "    def cartesian_to_spherical(x, y, z, to_degrees=True):\n",
        "        \"\"\"\n",
        "        Преобразует декартовы координаты в сферические\n",
        "        \"\"\"\n",
        "        r = math.sqrt(x**2 + y**2 + z**2)\n",
        "\n",
        "        theta = math.atan2(y, x)\n",
        "\n",
        "        if r == 0:\n",
        "            phi = 0\n",
        "        else:\n",
        "            phi = math.acos(z / r)\n",
        "\n",
        "        if to_degrees:\n",
        "            theta = AngleConverter.rad_to_deg(theta)\n",
        "            phi = AngleConverter.rad_to_deg(phi)\n",
        "\n",
        "        return r, theta, phi\n",
        "\n",
        "    @staticmethod\n",
        "    def spherical_to_cartesian(r, theta, phi, from_degrees=True):\n",
        "        \"\"\"\n",
        "        Преобразует сферические координаты в декартовы\n",
        "        \"\"\"\n",
        "        if from_degrees:\n",
        "            theta = AngleConverter.deg_to_rad(theta)\n",
        "            phi = AngleConverter.deg_to_rad(phi)\n",
        "\n",
        "        x = r * math.sin(phi) * math.cos(theta)\n",
        "        y = r * math.sin(phi) * math.sin(theta)\n",
        "        z = r * math.cos(phi)\n",
        "\n",
        "        return x, y, z\n",
        "\n",
        "    @staticmethod\n",
        "    def transform_point(point, transformation_type, **kwargs):\n",
        "        \"\"\"\n",
        "        Универсальный метод для преобразования точки\n",
        "        \"\"\"\n",
        "        if transformation_type == 'cartesian_to_spherical':\n",
        "            return CoordinateTransformer.cartesian_to_spherical(*point, **kwargs)\n",
        "        elif transformation_type == 'spherical_to_cartesian':\n",
        "            return CoordinateTransformer.spherical_to_cartesian(*point, **kwargs)\n",
        "        else:\n",
        "            raise ValueError(\"Неизвестный тип преобразования\")"
      ],
      "metadata": {
        "id": "PEwM6HmucHoX",
        "colab": {
          "base_uri": "https://localhost:8080/"
        },
        "outputId": "6a4986f1-16a5-4735-fe22-f46e2333ce6d"
      },
      "execution_count": 16,
      "outputs": [
        {
          "output_type": "stream",
          "name": "stdout",
          "text": [
            "Overwriting geo_transform/transformations.py\n"
          ]
        }
      ]
    },
    {
      "cell_type": "markdown",
      "source": [
        "### **Содержимое модуля utils.py:**"
      ],
      "metadata": {
        "id": "tw_9FXFkcIBq"
      }
    },
    {
      "cell_type": "code",
      "source": [
        "%%writefile geo_transform/utils.py\n",
        "\n",
        "import math\n",
        "\n",
        "class AngleConverter:\n",
        "    \"\"\"Класс для преобразования углов между градусами и радианами\"\"\"\n",
        "\n",
        "    @staticmethod\n",
        "    def deg_to_rad(degrees):\n",
        "        \"\"\"Преобразует градусы в радианы\"\"\"\n",
        "        return degrees * math.pi / 180\n",
        "\n",
        "    @staticmethod\n",
        "    def rad_to_deg(radians):\n",
        "        \"\"\"Преобразует радианы в градусы\"\"\"\n",
        "        return radians * 180 / math.pi\n",
        "\n",
        "    @staticmethod\n",
        "    def normalize_angle(angle, in_degrees=True):\n",
        "        \"\"\"\n",
        "        Нормализует угол в диапазон [0, 360) для градусов или [0, 2π) для радиан\n",
        "        \"\"\"\n",
        "        if in_degrees:\n",
        "            return angle % 360\n",
        "        else:\n",
        "            return angle % (2 * math.pi)"
      ],
      "metadata": {
        "id": "y96uQcmTcIBr",
        "colab": {
          "base_uri": "https://localhost:8080/"
        },
        "outputId": "da108ce7-ed5e-417d-c4db-47797de99df2"
      },
      "execution_count": 17,
      "outputs": [
        {
          "output_type": "stream",
          "name": "stdout",
          "text": [
            "Overwriting geo_transform/utils.py\n"
          ]
        }
      ]
    },
    {
      "cell_type": "markdown",
      "source": [
        "### **Содержимое модуля file_operations.py:**"
      ],
      "metadata": {
        "id": "kmYf0AOwcIOg"
      }
    },
    {
      "cell_type": "code",
      "source": [
        "%%writefile geo_transform/file_operations.py\n",
        "\n",
        "class FileManager:\n",
        "    \"\"\"Класс для работы с файлами координат\"\"\"\n",
        "\n",
        "    @staticmethod\n",
        "    def write_results_to_file(results, filename, mode='w'):\n",
        "        \"\"\"\n",
        "        Записывает результаты преобразований в файл\n",
        "        \"\"\"\n",
        "        with open(filename, mode, encoding='utf-8') as f:\n",
        "            for i, result in enumerate(results, 1):\n",
        "                f.write(f\"{i}. {result}\\\\n\")\n",
        "\n",
        "    @staticmethod\n",
        "    def read_coordinates_from_file(filename, coord_type='auto'):\n",
        "        \"\"\"\n",
        "        Читает координаты из файла\n",
        "        \"\"\"\n",
        "        coordinates = []\n",
        "        with open(filename, 'r', encoding='utf-8') as f:\n",
        "            for line_num, line in enumerate(f, 1):\n",
        "                line = line.strip()\n",
        "                if not line or line.startswith('#'):\n",
        "                    continue\n",
        "\n",
        "                try:\n",
        "                    # Пытаемся разобрать строку с координатами\n",
        "                    parts = line.split()\n",
        "                    coords = [float(x) for x in parts]\n",
        "\n",
        "                    if len(coords) == 3:\n",
        "                        if coord_type == 'auto':\n",
        "                            if coords[0] > 10 and all(c >= 0 for c in coords):\n",
        "                                coord_info = (coords, 'spherical')\n",
        "                            else:\n",
        "                                coord_info = (coords, 'cartesian')\n",
        "                        else:\n",
        "                            coord_info = (coords, coord_type)\n",
        "\n",
        "                        coordinates.append(coord_info)\n",
        "                    else:\n",
        "                        print(f\"Предупреждение: строка {line_num} содержит {len(coords)} координат вместо 3\")\n",
        "\n",
        "                except ValueError as e:\n",
        "                    print(f\"Ошибка в строке {line_num}: {e}\")\n",
        "\n",
        "        return coordinates\n",
        "\n",
        "    @staticmethod\n",
        "    def batch_transform_coordinates(filename, output_file=None):\n",
        "        \"\"\"\n",
        "        Пакетное преобразование координат из файла\n",
        "        \"\"\"\n",
        "        if output_file is None:\n",
        "            output_file = f\"transformed_{filename}\"\n",
        "\n",
        "        coordinates = FileManager.read_coordinates_from_file(filename, 'auto')\n",
        "        results = []\n",
        "\n",
        "        for i, (coords, coord_type) in enumerate(coordinates, 1):\n",
        "            try:\n",
        "                if coord_type == 'cartesian':\n",
        "                    x, y, z = coords\n",
        "                    r, theta, phi = CoordinateTransformer.cartesian_to_spherical(x, y, z)\n",
        "                    result = f\"Декартовы: ({x}, {y}, {z}) -> Сферические: (r={r:.2f}, θ={theta:.2f}°, φ={phi:.2f}°)\"\n",
        "\n",
        "                elif coord_type == 'spherical':\n",
        "                    r, theta, phi = coords\n",
        "                    x, y, z = CoordinateTransformer.spherical_to_cartesian(r, theta, phi)\n",
        "                    result = f\"Сферические: (r={r}, θ={theta}°, φ={phi}°) -> Декартовы: ({x:.2f}, {y:.2f}, {z:.2f})\"\n",
        "\n",
        "                results.append(result)\n",
        "                print(f\"{i}. {result}\")\n",
        "\n",
        "            except Exception as e:\n",
        "                error_msg = f\"Ошибка преобразования координат {coords}: {e}\"\n",
        "                results.append(error_msg)\n",
        "                print(f\"{i}. {error_msg}\")\n",
        "\n",
        "        # Сохраняем результаты\n",
        "        FileManager.write_results_to_file(results, output_file)\n",
        "        print(f\"\\\\nРезультаты сохранены в {output_file}\")\n",
        "\n",
        "        return results"
      ],
      "metadata": {
        "id": "HkmXurkjcIOg",
        "colab": {
          "base_uri": "https://localhost:8080/"
        },
        "outputId": "2ae0b12e-560c-41b7-dfb3-61ea9eff4547"
      },
      "execution_count": 18,
      "outputs": [
        {
          "output_type": "stream",
          "name": "stdout",
          "text": [
            "Overwriting geo_transform/file_operations.py\n"
          ]
        }
      ]
    },
    {
      "cell_type": "markdown",
      "source": [
        "### **Содержимое модуля \\_\\_main__.py:**"
      ],
      "metadata": {
        "id": "qUQb0g_RcaUd"
      }
    },
    {
      "cell_type": "code",
      "source": [
        "%%writefile geo_transform/__main__.py\n",
        "\n",
        "import sys\n",
        "from .transformations import CoordinateTransformer\n",
        "from .file_operations import FileManager\n",
        "\n",
        "class CoordinateConverterApp:\n",
        "    \"\"\"Класс приложения для конвертации координат\"\"\"\n",
        "\n",
        "    def __init__(self):\n",
        "        self.transformer = CoordinateTransformer\n",
        "        self.file_manager = FileManager\n",
        "\n",
        "    def display_menu(self):\n",
        "        \"\"\"Отображает главное меню\"\"\"\n",
        "        print(\"\\\\n\" + \"=\"*50)\n",
        "        print(\"    КОНВЕРТЕР КООРДИНАТ (ООП РЕФАКТОРИНГ)\")\n",
        "        print(\"=\"*50)\n",
        "        print(\"1. Декартовы → Сферические\")\n",
        "        print(\"2. Сферические → Декартовы\")\n",
        "        print(\"3. Обработать файл с координатами\")\n",
        "        print(\"4. Пакетное преобразование файла\")\n",
        "        print(\"5. Выход\")\n",
        "        print(\"=\"*50)\n",
        "\n",
        "    def cartesian_to_spherical_interactive(self):\n",
        "        \"\"\"Интерактивное преобразование декартовых в сферические\"\"\"\n",
        "        print(\"\\\\n--- Декартовы → Сферические ---\")\n",
        "        try:\n",
        "            x = float(input(\"Введите x: \"))\n",
        "            y = float(input(\"Введите y: \"))\n",
        "            z = float(input(\"Введите z: \"))\n",
        "\n",
        "            r, theta, phi = self.transformer.cartesian_to_spherical(x, y, z)\n",
        "\n",
        "            print(f\"\\\\nРезультат:\")\n",
        "            print(f\"r = {r:.4f}, theta = {theta:.2f}°, phi = {phi:.2f}°\")\n",
        "\n",
        "            save = input(\"\\\\nСохранить результат? (y/n): \").lower()\n",
        "            if save == 'y':\n",
        "                result = f\"Декартовы: ({x}, {y}, {z}) -> Сферические: (r={r:.2f}, θ={theta:.2f}°, φ={phi:.2f}°)\"\n",
        "                self.file_manager.write_results_to_file([result], \"results.txt\", mode='a')\n",
        "                print(\"Результат сохранен в results.txt\")\n",
        "\n",
        "        except ValueError:\n",
        "            print(\"Ошибка: введите корректные числа!\")\n",
        "        except Exception as e:\n",
        "            print(f\"Ошибка преобразования: {e}\")\n",
        "\n",
        "    def spherical_to_cartesian_interactive(self):\n",
        "        \"\"\"Интерактивное преобразование сферических в декартовы\"\"\"\n",
        "        print(\"\\\\n--- Сферические → Декартовы ---\")\n",
        "        try:\n",
        "            r = float(input(\"Введите радиус r: \"))\n",
        "            theta = float(input(\"Введите азимутальный угол θ (градусы): \"))\n",
        "            phi = float(input(\"Введите полярный угол φ (градусы): \"))\n",
        "\n",
        "            x, y, z = self.transformer.spherical_to_cartesian(r, theta, phi)\n",
        "\n",
        "            print(f\"\\\\nРезультат:\")\n",
        "            print(f\"x = {x:.4f}, y = {y:.4f}, z = {z:.4f}\")\n",
        "\n",
        "            save = input(\"\\\\nСохранить результат? (y/n): \").lower()\n",
        "            if save == 'y':\n",
        "                result = f\"Сферические: (r={r}, θ={theta}°, φ={phi}°) -> Декартовы: ({x:.2f}, {y:.2f}, {z:.2f})\"\n",
        "                self.file_manager.write_results_to_file([result], \"results.txt\", mode='a')\n",
        "                print(\"Результат сохранен в results.txt\")\n",
        "\n",
        "        except ValueError:\n",
        "            print(\"Ошибка: введите корректные числа!\")\n",
        "        except Exception as e:\n",
        "            print(f\"Ошибка преобразования: {e}\")\n",
        "\n",
        "    def process_file_interactive(self):\n",
        "        \"\"\"Обработка файла с координатами\"\"\"\n",
        "        print(\"\\\\n--- Обработка файла ---\")\n",
        "        filename = input(\"Введите имя файла: \")\n",
        "\n",
        "        try:\n",
        "            coordinates = self.file_manager.read_coordinates_from_file(filename)\n",
        "\n",
        "            if not coordinates:\n",
        "                print(\"Файл пуст или координаты не найдены!\")\n",
        "                return\n",
        "\n",
        "            print(f\"\\\\nНайдено {len(coordinates)} наборов координат:\")\n",
        "            results = []\n",
        "\n",
        "            for i, (coords, coord_type) in enumerate(coordinates, 1):\n",
        "                print(f\"\\\\n{i}. {coord_type}: {coords}\")\n",
        "\n",
        "                transform_type = input(\"Преобразовать в (c/s - карта/сфера, Enter - пропустить): \").lower()\n",
        "\n",
        "                if transform_type == 'c' and coord_type == 'spherical':\n",
        "                    # Сферические в Декартовы\n",
        "                    r, theta, phi = coords\n",
        "                    x, y, z = self.transformer.spherical_to_cartesian(r, theta, phi)\n",
        "                    result = f\"Сферические: {coords} -> Декартовы: ({x:.2f}, {y:.2f}, {z:.2f})\"\n",
        "                    results.append(result)\n",
        "                    print(f\"   -> {result}\")\n",
        "\n",
        "                elif transform_type == 's' and coord_type == 'cartesian':\n",
        "                    # Декартовы в Сферические\n",
        "                    x, y, z = coords\n",
        "                    r, theta, phi = self.transformer.cartesian_to_spherical(x, y, z)\n",
        "                    result = f\"Декартовы: {coords} -> Сферические: (r={r:.2f}, θ={theta:.2f}°, φ={phi:.2f}°)\"\n",
        "                    results.append(result)\n",
        "                    print(f\"   -> {result}\")\n",
        "\n",
        "            if results:\n",
        "                save = input(\"\\\\nСохранить все результаты? (y/n): \").lower()\n",
        "                if save == 'y':\n",
        "                    self.file_manager.write_results_to_file(results, \"file_processing_results.txt\")\n",
        "                    print(\"Результаты сохранены в file_processing_results.txt\")\n",
        "\n",
        "        except FileNotFoundError:\n",
        "            print(f\"Файл {filename} не найден!\")\n",
        "        except Exception as e:\n",
        "            print(f\"Ошибка при обработке файла: {e}\")\n",
        "\n",
        "    def batch_transform_file(self):\n",
        "        \"\"\"Пакетное преобразование всего файла\"\"\"\n",
        "        print(\"\\\\n--- Пакетное преобразование файла ---\")\n",
        "        filename = input(\"Введите имя файла: \")\n",
        "\n",
        "        try:\n",
        "            self.file_manager.batch_transform_coordinates(filename)\n",
        "        except Exception as e:\n",
        "            print(f\"Ошибка: {e}\")\n",
        "\n",
        "    def run(self):\n",
        "        \"\"\"Запускает главный цикл приложения\"\"\"\n",
        "        print(\"Добро пожаловать в конвертер координат (ООП версия)!\")\n",
        "\n",
        "        while True:\n",
        "            self.display_menu()\n",
        "            choice = input(\"\\\\nВыберите действие (1-5): \").strip()\n",
        "\n",
        "            if choice == '1':\n",
        "                self.cartesian_to_spherical_interactive()\n",
        "            elif choice == '2':\n",
        "                self.spherical_to_cartesian_interactive()\n",
        "            elif choice == '3':\n",
        "                self.process_file_interactive()\n",
        "            elif choice == '4':\n",
        "                self.batch_transform_file()\n",
        "            elif choice == '5':\n",
        "                print(\"\\\\nВыход из программы. До свидания!\")\n",
        "                break\n",
        "            else:\n",
        "                print(\"Неверный выбор! Попробуйте снова.\")\n",
        "\n",
        "\n",
        "def main():\n",
        "    \"\"\"Главная функция\"\"\"\n",
        "    app = CoordinateConverterApp()\n",
        "    app.run()\n",
        "\n",
        "\n",
        "if __name__ == \"__main__\":\n",
        "    main()"
      ],
      "metadata": {
        "id": "qzNV09hfcaUe",
        "colab": {
          "base_uri": "https://localhost:8080/"
        },
        "outputId": "e390706d-f800-45ce-ef40-24e0037f6bd8"
      },
      "execution_count": 19,
      "outputs": [
        {
          "output_type": "stream",
          "name": "stdout",
          "text": [
            "Overwriting geo_transform/__main__.py\n"
          ]
        }
      ]
    },
    {
      "cell_type": "markdown",
      "source": [
        "### **Содержимое модуля main.py (с импортом пакета и тестированием функций из него):**"
      ],
      "metadata": {
        "id": "vGqPXMcdcpxE"
      }
    },
    {
      "cell_type": "code",
      "source": [
        "from geo_transform import CoordinateTransformer, AngleConverter, FileManager\n",
        "\n",
        "# Тестирование преобразований координат\n",
        "print(\"1. Тест преобразований координат:\")\n",
        "x, y, z = 1, 1, 1\n",
        "r, theta, phi = CoordinateTransformer.cartesian_to_spherical(x, y, z)\n",
        "print(f\"   Декартовы ({x}, {y}, {z}) -> Сферические: r={r:.2f}, θ={theta:.2f}°, φ={phi:.2f}°\")\n",
        "\n",
        "x_back, y_back, z_back = CoordinateTransformer.spherical_to_cartesian(r, theta, phi)\n",
        "print(f\"   Обратное преобразование -> Декартовы: x={x_back:.2f}, y={y_back:.2f}, z={z_back:.2f}\")\n",
        "\n",
        "# Тестирование преобразования углов\n",
        "print(\"\\n2. Тест преобразования углов:\")\n",
        "degrees = 180\n",
        "radians = AngleConverter.deg_to_rad(degrees)\n",
        "print(f\"   {degrees}° = {radians:.2f} радиан\")\n",
        "print(f\"   {radians:.2f} радиан = {AngleConverter.rad_to_deg(radians):.2f}°\")\n",
        "\n",
        "# Тестирование работы с файлами\n",
        "print(\"\\n3. Тест работы с файлами:\")\n",
        "test_results = [\n",
        "    \"Тестовая строка 1\",\n",
        "    \"Тестовая строка 2\",\n",
        "    \"Тестовая строка 3\"\n",
        "]\n",
        "FileManager.write_results_to_file(test_results, \"test_output.txt\")\n",
        "print(\"   Файл test_output.txt создан\")\n",
        "\n",
        "# Тестирование универсального метода\n",
        "print(\"\\n4. Тест универсального метода:\")\n",
        "point = (1, 1, 1)\n",
        "result = CoordinateTransformer.transform_point(point, 'cartesian_to_spherical')\n",
        "print(f\"   Универсальное преобразование {point} -> {result}\")\n"
      ],
      "metadata": {
        "id": "4b1mRDL6cpxE",
        "colab": {
          "base_uri": "https://localhost:8080/"
        },
        "outputId": "d29d2be6-1103-45ca-a764-219f67fb9381"
      },
      "execution_count": 20,
      "outputs": [
        {
          "output_type": "stream",
          "name": "stdout",
          "text": [
            "1. Тест преобразований координат:\n",
            "   Декартовы (1, 1, 1) -> Сферические: r=1.73, θ=45.00°, φ=54.74°\n",
            "   Обратное преобразование -> Декартовы: x=1.00, y=1.00, z=1.00\n",
            "\n",
            "2. Тест преобразования углов:\n",
            "   180° = 3.14 радиан\n",
            "   3.14 радиан = 180.00°\n",
            "\n",
            "3. Тест работы с файлами:\n",
            "   Файл test_output.txt создан\n",
            "\n",
            "4. Тест универсального метода:\n",
            "   Универсальное преобразование (1, 1, 1) -> (1.7320508075688772, 45.0, 54.735610317245346)\n"
          ]
        }
      ]
    }
  ]
}